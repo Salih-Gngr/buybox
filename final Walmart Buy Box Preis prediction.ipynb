{
 "cells": [
  {
   "cell_type": "code",
   "execution_count": 1,
   "id": "d833f0aa",
   "metadata": {
    "ExecuteTime": {
     "end_time": "2024-05-21T08:36:05.055812Z",
     "start_time": "2024-05-21T08:36:03.317537Z"
    }
   },
   "outputs": [
    {
     "name": "stderr",
     "output_type": "stream",
     "text": [
      "C:\\Users\\nsgr6\\AppData\\Roaming\\Python\\Python310\\site-packages\\matplotlib\\projections\\__init__.py:63: UserWarning: Unable to import Axes3D. This may be due to multiple versions of Matplotlib being installed (e.g. as a system package and as a pip package). As a result, the 3D projection is not available.\n",
      "  warnings.warn(\"Unable to import Axes3D. This may be due to multiple versions of \"\n"
     ]
    }
   ],
   "source": [
    "import numpy as np\n",
    "import pandas as pd\n",
    "import matplotlib.pyplot as plt\n",
    "import seaborn as sb\n",
    "\n",
    "from sklearn.model_selection import train_test_split\n",
    "from sklearn.preprocessing import StandardScaler\n",
    "from sklearn.linear_model import LogisticRegression\n",
    "\n",
    "import warnings\n",
    "warnings.filterwarnings('ignore')"
   ]
  },
  {
   "cell_type": "code",
   "execution_count": 2,
   "id": "85c6050c",
   "metadata": {
    "ExecuteTime": {
     "end_time": "2024-05-21T08:36:05.101403Z",
     "start_time": "2024-05-21T08:36:05.059005Z"
    }
   },
   "outputs": [
    {
     "data": {
      "text/html": [
       "<div>\n",
       "<style scoped>\n",
       "    .dataframe tbody tr th:only-of-type {\n",
       "        vertical-align: middle;\n",
       "    }\n",
       "\n",
       "    .dataframe tbody tr th {\n",
       "        vertical-align: top;\n",
       "    }\n",
       "\n",
       "    .dataframe thead th {\n",
       "        text-align: right;\n",
       "    }\n",
       "</style>\n",
       "<table border=\"1\" class=\"dataframe\">\n",
       "  <thead>\n",
       "    <tr style=\"text-align: right;\">\n",
       "      <th></th>\n",
       "      <th>Unnamed: 0</th>\n",
       "      <th>SKU</th>\n",
       "      <th>Product_Name</th>\n",
       "      <th>Product_Category</th>\n",
       "      <th>Price</th>\n",
       "      <th>Promo_Start_Date</th>\n",
       "      <th>Promo_End_Date</th>\n",
       "      <th>Comparison_Price</th>\n",
       "      <th>Comparison_Price_Type</th>\n",
       "      <th>Buy_Box_Item_Price</th>\n",
       "      <th>...</th>\n",
       "      <th>Primary_Category_Path</th>\n",
       "      <th>Brand</th>\n",
       "      <th>Offer_Start_Date</th>\n",
       "      <th>Offer_End_Date</th>\n",
       "      <th>Item_Creation_Date</th>\n",
       "      <th>Reviews_Count</th>\n",
       "      <th>Average_Rating</th>\n",
       "      <th>Competitor_Price</th>\n",
       "      <th>Competitor_Ship_Price</th>\n",
       "      <th>Cost</th>\n",
       "    </tr>\n",
       "  </thead>\n",
       "  <tbody>\n",
       "    <tr>\n",
       "      <th>0</th>\n",
       "      <td>0</td>\n",
       "      <td>028400043816-C-F-L1-12.99</td>\n",
       "      <td>Sun Chips Whole Grain Snacks Variety Mix 30 Ba...</td>\n",
       "      <td>Food &amp; Beverage</td>\n",
       "      <td>39.99</td>\n",
       "      <td>1970-01-01</td>\n",
       "      <td>1970-01-01</td>\n",
       "      <td>30.98</td>\n",
       "      <td>Was Price</td>\n",
       "      <td>39.99</td>\n",
       "      <td>...</td>\n",
       "      <td>[\"Home Page\",\"Food\",\"Snacks, Cookies &amp; Chips\",...</td>\n",
       "      <td>SunChips</td>\n",
       "      <td>2022-08-29</td>\n",
       "      <td>2041-09-12</td>\n",
       "      <td>2018-04-06</td>\n",
       "      <td>6</td>\n",
       "      <td>3.5</td>\n",
       "      <td>42.91</td>\n",
       "      <td>-1.0</td>\n",
       "      <td>15.996</td>\n",
       "    </tr>\n",
       "    <tr>\n",
       "      <th>1</th>\n",
       "      <td>1</td>\n",
       "      <td>096619461769-C-P-L1-11.49</td>\n",
       "      <td>Kirkland Signature Organic Balsamic Vinegar 1 ...</td>\n",
       "      <td>Food &amp; Beverage</td>\n",
       "      <td>25.99</td>\n",
       "      <td>1970-01-01</td>\n",
       "      <td>1970-01-01</td>\n",
       "      <td>28.95</td>\n",
       "      <td>Was Price</td>\n",
       "      <td>26.95</td>\n",
       "      <td>...</td>\n",
       "      <td>[\"Home Page\",\"Food\",\"Pantry\",\"Cooking oils &amp; v...</td>\n",
       "      <td>Kirkland Signature</td>\n",
       "      <td>2022-11-13</td>\n",
       "      <td>2049-11-13</td>\n",
       "      <td>2021-03-02</td>\n",
       "      <td>0</td>\n",
       "      <td>0.0</td>\n",
       "      <td>27.70</td>\n",
       "      <td>0.0</td>\n",
       "      <td>10.396</td>\n",
       "    </tr>\n",
       "    <tr>\n",
       "      <th>2</th>\n",
       "      <td>2</td>\n",
       "      <td>794297801814-CB-P-L1-46.99</td>\n",
       "      <td>20 oz Coke cup with logo</td>\n",
       "      <td>Other</td>\n",
       "      <td>103.99</td>\n",
       "      <td>1970-01-01</td>\n",
       "      <td>1970-01-01</td>\n",
       "      <td>103.99</td>\n",
       "      <td>Was Price</td>\n",
       "      <td>103.99</td>\n",
       "      <td>...</td>\n",
       "      <td>[\"Home Page\",\"Home\",\"Kitchen &amp; Dining\",\"Dining...</td>\n",
       "      <td>Generic</td>\n",
       "      <td>2023-05-27</td>\n",
       "      <td>2049-12-31</td>\n",
       "      <td>2022-07-29</td>\n",
       "      <td>0</td>\n",
       "      <td>0.0</td>\n",
       "      <td>0.00</td>\n",
       "      <td>0.0</td>\n",
       "      <td>41.596</td>\n",
       "    </tr>\n",
       "    <tr>\n",
       "      <th>3</th>\n",
       "      <td>3</td>\n",
       "      <td>096619067237-CB-F-L1-13.99</td>\n",
       "      <td>Kirkland Signature Trail Mix Snack Packs 2 Oun...</td>\n",
       "      <td>Food &amp; Beverage</td>\n",
       "      <td>29.75</td>\n",
       "      <td>1970-01-01</td>\n",
       "      <td>1970-01-01</td>\n",
       "      <td>37.95</td>\n",
       "      <td>List Price</td>\n",
       "      <td>31.95</td>\n",
       "      <td>...</td>\n",
       "      <td>[\"Home Page\",\"Food\",\"Snacks, Cookies &amp; Chips\",...</td>\n",
       "      <td>Kirkland Signature</td>\n",
       "      <td>2017-09-26</td>\n",
       "      <td>2041-09-26</td>\n",
       "      <td>2021-07-12</td>\n",
       "      <td>1</td>\n",
       "      <td>4.0</td>\n",
       "      <td>39.99</td>\n",
       "      <td>0.0</td>\n",
       "      <td>11.900</td>\n",
       "    </tr>\n",
       "    <tr>\n",
       "      <th>4</th>\n",
       "      <td>4</td>\n",
       "      <td>300410011574-C-P-L1-14.99</td>\n",
       "      <td>Lot of 8 Oral B CrossAction Advanced Soft Toot...</td>\n",
       "      <td>Beauty, Personal Care, &amp; Hygiene</td>\n",
       "      <td>20.99</td>\n",
       "      <td>1970-01-01</td>\n",
       "      <td>1970-01-01</td>\n",
       "      <td>19.99</td>\n",
       "      <td>Was Price</td>\n",
       "      <td>24.99</td>\n",
       "      <td>...</td>\n",
       "      <td>[\"Home Page\",\"Personal Care\",\"Oral Care\",\"Toot...</td>\n",
       "      <td>Oral-B</td>\n",
       "      <td>2022-09-16</td>\n",
       "      <td>2049-09-27</td>\n",
       "      <td>2022-05-05</td>\n",
       "      <td>0</td>\n",
       "      <td>0.0</td>\n",
       "      <td>19.90</td>\n",
       "      <td>0.0</td>\n",
       "      <td>8.396</td>\n",
       "    </tr>\n",
       "  </tbody>\n",
       "</table>\n",
       "<p>5 rows × 28 columns</p>\n",
       "</div>"
      ],
      "text/plain": [
       "   Unnamed: 0                         SKU  \\\n",
       "0           0   028400043816-C-F-L1-12.99   \n",
       "1           1   096619461769-C-P-L1-11.49   \n",
       "2           2  794297801814-CB-P-L1-46.99   \n",
       "3           3  096619067237-CB-F-L1-13.99   \n",
       "4           4   300410011574-C-P-L1-14.99   \n",
       "\n",
       "                                        Product_Name  \\\n",
       "0  Sun Chips Whole Grain Snacks Variety Mix 30 Ba...   \n",
       "1  Kirkland Signature Organic Balsamic Vinegar 1 ...   \n",
       "2                           20 oz Coke cup with logo   \n",
       "3  Kirkland Signature Trail Mix Snack Packs 2 Oun...   \n",
       "4  Lot of 8 Oral B CrossAction Advanced Soft Toot...   \n",
       "\n",
       "                   Product_Category   Price Promo_Start_Date Promo_End_Date  \\\n",
       "0                   Food & Beverage   39.99       1970-01-01     1970-01-01   \n",
       "1                   Food & Beverage   25.99       1970-01-01     1970-01-01   \n",
       "2                             Other  103.99       1970-01-01     1970-01-01   \n",
       "3                   Food & Beverage   29.75       1970-01-01     1970-01-01   \n",
       "4  Beauty, Personal Care, & Hygiene   20.99       1970-01-01     1970-01-01   \n",
       "\n",
       "   Comparison_Price Comparison_Price_Type  Buy_Box_Item_Price  ...  \\\n",
       "0             30.98             Was Price               39.99  ...   \n",
       "1             28.95             Was Price               26.95  ...   \n",
       "2            103.99             Was Price              103.99  ...   \n",
       "3             37.95            List Price               31.95  ...   \n",
       "4             19.99             Was Price               24.99  ...   \n",
       "\n",
       "                               Primary_Category_Path               Brand  \\\n",
       "0  [\"Home Page\",\"Food\",\"Snacks, Cookies & Chips\",...            SunChips   \n",
       "1  [\"Home Page\",\"Food\",\"Pantry\",\"Cooking oils & v...  Kirkland Signature   \n",
       "2  [\"Home Page\",\"Home\",\"Kitchen & Dining\",\"Dining...             Generic   \n",
       "3  [\"Home Page\",\"Food\",\"Snacks, Cookies & Chips\",...  Kirkland Signature   \n",
       "4  [\"Home Page\",\"Personal Care\",\"Oral Care\",\"Toot...              Oral-B   \n",
       "\n",
       "   Offer_Start_Date Offer_End_Date  Item_Creation_Date Reviews_Count  \\\n",
       "0        2022-08-29     2041-09-12          2018-04-06             6   \n",
       "1        2022-11-13     2049-11-13          2021-03-02             0   \n",
       "2        2023-05-27     2049-12-31          2022-07-29             0   \n",
       "3        2017-09-26     2041-09-26          2021-07-12             1   \n",
       "4        2022-09-16     2049-09-27          2022-05-05             0   \n",
       "\n",
       "  Average_Rating Competitor_Price Competitor_Ship_Price    Cost  \n",
       "0            3.5            42.91                  -1.0  15.996  \n",
       "1            0.0            27.70                   0.0  10.396  \n",
       "2            0.0             0.00                   0.0  41.596  \n",
       "3            4.0            39.99                   0.0  11.900  \n",
       "4            0.0            19.90                   0.0   8.396  \n",
       "\n",
       "[5 rows x 28 columns]"
      ]
     },
     "execution_count": 2,
     "metadata": {},
     "output_type": "execute_result"
    }
   ],
   "source": [
    "df = pd.read_csv('Walmart_item_analyse.csv')\n",
    "df.head()"
   ]
  },
  {
   "cell_type": "code",
   "execution_count": 3,
   "id": "0cdfc297",
   "metadata": {
    "ExecuteTime": {
     "end_time": "2024-05-21T08:36:05.116949Z",
     "start_time": "2024-05-21T08:36:05.103776Z"
    }
   },
   "outputs": [
    {
     "name": "stdout",
     "output_type": "stream",
     "text": [
      "<class 'pandas.core.frame.DataFrame'>\n",
      "RangeIndex: 1044 entries, 0 to 1043\n",
      "Data columns (total 28 columns):\n",
      " #   Column                 Non-Null Count  Dtype  \n",
      "---  ------                 --------------  -----  \n",
      " 0   Unnamed: 0             1044 non-null   int64  \n",
      " 1   SKU                    1044 non-null   object \n",
      " 2   Product_Name           1044 non-null   object \n",
      " 3   Product_Category       1044 non-null   object \n",
      " 4   Price                  1044 non-null   float64\n",
      " 5   Promo_Start_Date       1044 non-null   object \n",
      " 6   Promo_End_Date         1044 non-null   object \n",
      " 7   Comparison_Price       1044 non-null   float64\n",
      " 8   Comparison_Price_Type  1044 non-null   object \n",
      " 9   Buy_Box_Item_Price     1044 non-null   float64\n",
      " 10  Buy_Box_Eligible       1044 non-null   object \n",
      " 11  MSRP                   1044 non-null   float64\n",
      " 12  Product_Tax_Code       1044 non-null   int64  \n",
      " 13  Ship_Methods           1044 non-null   object \n",
      " 14  Shipping_Weight        1044 non-null   float64\n",
      " 15  Fulfillment_Type       1044 non-null   object \n",
      " 16  WFS_Sales_Restriction  1044 non-null   object \n",
      " 17  Shelf_Name             1044 non-null   object \n",
      " 18  Primary_Category_Path  1044 non-null   object \n",
      " 19  Brand                  1044 non-null   object \n",
      " 20  Offer_Start_Date       1044 non-null   object \n",
      " 21  Offer_End_Date         1044 non-null   object \n",
      " 22  Item_Creation_Date     1044 non-null   object \n",
      " 23  Reviews_Count          1044 non-null   int64  \n",
      " 24  Average_Rating         1044 non-null   float64\n",
      " 25  Competitor_Price       1044 non-null   float64\n",
      " 26  Competitor_Ship_Price  1044 non-null   float64\n",
      " 27  Cost                   1044 non-null   float64\n",
      "dtypes: float64(9), int64(3), object(16)\n",
      "memory usage: 228.5+ KB\n"
     ]
    }
   ],
   "source": [
    "df.info()"
   ]
  },
  {
   "cell_type": "code",
   "execution_count": 4,
   "id": "ff3c2945",
   "metadata": {
    "ExecuteTime": {
     "end_time": "2024-05-21T08:36:05.163445Z",
     "start_time": "2024-05-21T08:36:05.120827Z"
    }
   },
   "outputs": [
    {
     "data": {
      "text/html": [
       "<div>\n",
       "<style scoped>\n",
       "    .dataframe tbody tr th:only-of-type {\n",
       "        vertical-align: middle;\n",
       "    }\n",
       "\n",
       "    .dataframe tbody tr th {\n",
       "        vertical-align: top;\n",
       "    }\n",
       "\n",
       "    .dataframe thead th {\n",
       "        text-align: right;\n",
       "    }\n",
       "</style>\n",
       "<table border=\"1\" class=\"dataframe\">\n",
       "  <thead>\n",
       "    <tr style=\"text-align: right;\">\n",
       "      <th></th>\n",
       "      <th>count</th>\n",
       "      <th>mean</th>\n",
       "      <th>std</th>\n",
       "      <th>min</th>\n",
       "      <th>25%</th>\n",
       "      <th>50%</th>\n",
       "      <th>75%</th>\n",
       "      <th>max</th>\n",
       "    </tr>\n",
       "  </thead>\n",
       "  <tbody>\n",
       "    <tr>\n",
       "      <th>Unnamed: 0</th>\n",
       "      <td>1044.0</td>\n",
       "      <td>5.215000e+02</td>\n",
       "      <td>301.521144</td>\n",
       "      <td>0.00</td>\n",
       "      <td>2.607500e+02</td>\n",
       "      <td>521.500</td>\n",
       "      <td>7.822500e+02</td>\n",
       "      <td>1043.000</td>\n",
       "    </tr>\n",
       "    <tr>\n",
       "      <th>Price</th>\n",
       "      <td>1044.0</td>\n",
       "      <td>4.574703e+01</td>\n",
       "      <td>55.106696</td>\n",
       "      <td>5.65</td>\n",
       "      <td>2.190000e+01</td>\n",
       "      <td>29.675</td>\n",
       "      <td>4.352500e+01</td>\n",
       "      <td>658.990</td>\n",
       "    </tr>\n",
       "    <tr>\n",
       "      <th>Comparison_Price</th>\n",
       "      <td>1044.0</td>\n",
       "      <td>4.574518e+01</td>\n",
       "      <td>56.758813</td>\n",
       "      <td>0.00</td>\n",
       "      <td>2.099000e+01</td>\n",
       "      <td>28.970</td>\n",
       "      <td>4.299000e+01</td>\n",
       "      <td>658.990</td>\n",
       "    </tr>\n",
       "    <tr>\n",
       "      <th>Buy_Box_Item_Price</th>\n",
       "      <td>1044.0</td>\n",
       "      <td>4.342923e+01</td>\n",
       "      <td>50.867477</td>\n",
       "      <td>3.47</td>\n",
       "      <td>2.029750e+01</td>\n",
       "      <td>28.475</td>\n",
       "      <td>4.051250e+01</td>\n",
       "      <td>474.990</td>\n",
       "    </tr>\n",
       "    <tr>\n",
       "      <th>MSRP</th>\n",
       "      <td>1044.0</td>\n",
       "      <td>3.776965e+01</td>\n",
       "      <td>68.327058</td>\n",
       "      <td>0.00</td>\n",
       "      <td>0.000000e+00</td>\n",
       "      <td>17.460</td>\n",
       "      <td>4.475000e+01</td>\n",
       "      <td>639.950</td>\n",
       "    </tr>\n",
       "    <tr>\n",
       "      <th>Product_Tax_Code</th>\n",
       "      <td>1044.0</td>\n",
       "      <td>2.053564e+06</td>\n",
       "      <td>110594.127847</td>\n",
       "      <td>2038305.00</td>\n",
       "      <td>2.038362e+06</td>\n",
       "      <td>2038710.000</td>\n",
       "      <td>2.040197e+06</td>\n",
       "      <td>3001205.000</td>\n",
       "    </tr>\n",
       "    <tr>\n",
       "      <th>Shipping_Weight</th>\n",
       "      <td>1044.0</td>\n",
       "      <td>5.383704e+00</td>\n",
       "      <td>7.530352</td>\n",
       "      <td>0.00</td>\n",
       "      <td>1.600000e+00</td>\n",
       "      <td>3.000</td>\n",
       "      <td>5.340000e+00</td>\n",
       "      <td>95.000</td>\n",
       "    </tr>\n",
       "    <tr>\n",
       "      <th>Reviews_Count</th>\n",
       "      <td>1044.0</td>\n",
       "      <td>4.218429e+02</td>\n",
       "      <td>1810.318961</td>\n",
       "      <td>0.00</td>\n",
       "      <td>0.000000e+00</td>\n",
       "      <td>4.000</td>\n",
       "      <td>1.422500e+02</td>\n",
       "      <td>30715.000</td>\n",
       "    </tr>\n",
       "    <tr>\n",
       "      <th>Average_Rating</th>\n",
       "      <td>1044.0</td>\n",
       "      <td>3.016222e+00</td>\n",
       "      <td>2.142776</td>\n",
       "      <td>0.00</td>\n",
       "      <td>0.000000e+00</td>\n",
       "      <td>4.300</td>\n",
       "      <td>4.700000e+00</td>\n",
       "      <td>5.000</td>\n",
       "    </tr>\n",
       "    <tr>\n",
       "      <th>Competitor_Price</th>\n",
       "      <td>1044.0</td>\n",
       "      <td>3.818640e+01</td>\n",
       "      <td>48.446980</td>\n",
       "      <td>0.00</td>\n",
       "      <td>1.744750e+01</td>\n",
       "      <td>25.500</td>\n",
       "      <td>3.903750e+01</td>\n",
       "      <td>489.500</td>\n",
       "    </tr>\n",
       "    <tr>\n",
       "      <th>Competitor_Ship_Price</th>\n",
       "      <td>1044.0</td>\n",
       "      <td>5.501916e-02</td>\n",
       "      <td>1.163402</td>\n",
       "      <td>-1.00</td>\n",
       "      <td>0.000000e+00</td>\n",
       "      <td>0.000</td>\n",
       "      <td>0.000000e+00</td>\n",
       "      <td>19.210</td>\n",
       "    </tr>\n",
       "    <tr>\n",
       "      <th>Cost</th>\n",
       "      <td>1044.0</td>\n",
       "      <td>1.829881e+01</td>\n",
       "      <td>22.042679</td>\n",
       "      <td>2.26</td>\n",
       "      <td>8.760000e+00</td>\n",
       "      <td>11.870</td>\n",
       "      <td>1.741000e+01</td>\n",
       "      <td>263.596</td>\n",
       "    </tr>\n",
       "  </tbody>\n",
       "</table>\n",
       "</div>"
      ],
      "text/plain": [
       "                        count          mean            std         min  \\\n",
       "Unnamed: 0             1044.0  5.215000e+02     301.521144        0.00   \n",
       "Price                  1044.0  4.574703e+01      55.106696        5.65   \n",
       "Comparison_Price       1044.0  4.574518e+01      56.758813        0.00   \n",
       "Buy_Box_Item_Price     1044.0  4.342923e+01      50.867477        3.47   \n",
       "MSRP                   1044.0  3.776965e+01      68.327058        0.00   \n",
       "Product_Tax_Code       1044.0  2.053564e+06  110594.127847  2038305.00   \n",
       "Shipping_Weight        1044.0  5.383704e+00       7.530352        0.00   \n",
       "Reviews_Count          1044.0  4.218429e+02    1810.318961        0.00   \n",
       "Average_Rating         1044.0  3.016222e+00       2.142776        0.00   \n",
       "Competitor_Price       1044.0  3.818640e+01      48.446980        0.00   \n",
       "Competitor_Ship_Price  1044.0  5.501916e-02       1.163402       -1.00   \n",
       "Cost                   1044.0  1.829881e+01      22.042679        2.26   \n",
       "\n",
       "                                25%          50%           75%          max  \n",
       "Unnamed: 0             2.607500e+02      521.500  7.822500e+02     1043.000  \n",
       "Price                  2.190000e+01       29.675  4.352500e+01      658.990  \n",
       "Comparison_Price       2.099000e+01       28.970  4.299000e+01      658.990  \n",
       "Buy_Box_Item_Price     2.029750e+01       28.475  4.051250e+01      474.990  \n",
       "MSRP                   0.000000e+00       17.460  4.475000e+01      639.950  \n",
       "Product_Tax_Code       2.038362e+06  2038710.000  2.040197e+06  3001205.000  \n",
       "Shipping_Weight        1.600000e+00        3.000  5.340000e+00       95.000  \n",
       "Reviews_Count          0.000000e+00        4.000  1.422500e+02    30715.000  \n",
       "Average_Rating         0.000000e+00        4.300  4.700000e+00        5.000  \n",
       "Competitor_Price       1.744750e+01       25.500  3.903750e+01      489.500  \n",
       "Competitor_Ship_Price  0.000000e+00        0.000  0.000000e+00       19.210  \n",
       "Cost                   8.760000e+00       11.870  1.741000e+01      263.596  "
      ]
     },
     "execution_count": 4,
     "metadata": {},
     "output_type": "execute_result"
    }
   ],
   "source": [
    "df.describe().T"
   ]
  },
  {
   "cell_type": "markdown",
   "id": "5ab54e2b",
   "metadata": {},
   "source": [
    "EDA"
   ]
  },
  {
   "cell_type": "code",
   "execution_count": 5,
   "id": "92e2dc9f",
   "metadata": {
    "ExecuteTime": {
     "end_time": "2024-05-21T08:36:05.380939Z",
     "start_time": "2024-05-21T08:36:05.166674Z"
    }
   },
   "outputs": [
    {
     "data": {
      "image/png": "[encoded data removed]",
      "text/plain": [
       "<Figure size 1500x500 with 1 Axes>"
      ]
     },
     "metadata": {},
     "output_type": "display_data"
    }
   ],
   "source": [
    "plt.figure(figsize=(15,5))\n",
    "plt.plot(df['Buy_Box_Item_Price'])\n",
    "plt.title('Buy_Box_Item_Price', fontsize=15)\n",
    "plt.ylabel('Price in dollars.')\n",
    "plt.show()"
   ]
  },
  {
   "cell_type": "code",
   "execution_count": 6,
   "id": "8f353ff6",
   "metadata": {
    "ExecuteTime": {
     "end_time": "2024-05-21T08:36:05.397762Z",
     "start_time": "2024-05-21T08:36:05.383459Z"
    }
   },
   "outputs": [
    {
     "data": {
      "text/plain": [
       "(419, 28)"
      ]
     },
     "execution_count": 6,
     "metadata": {},
     "output_type": "execute_result"
    }
   ],
   "source": [
    "df[df['Buy_Box_Item_Price'] == df['Price']].shape # ikiside ayni degerler"
   ]
  },
  {
   "cell_type": "code",
   "execution_count": 7,
   "id": "c5524b8e",
   "metadata": {
    "ExecuteTime": {
     "end_time": "2024-05-21T08:36:05.411380Z",
     "start_time": "2024-05-21T08:36:05.400231Z"
    }
   },
   "outputs": [
    {
     "data": {
      "text/plain": [
       "(211, 28)"
      ]
     },
     "execution_count": 7,
     "metadata": {},
     "output_type": "execute_result"
    }
   ],
   "source": [
    "df[df['Buy_Box_Item_Price'] > df['Price']].shape # ikiside ayni degerler"
   ]
  },
  {
   "cell_type": "code",
   "execution_count": 8,
   "id": "7033ad8a",
   "metadata": {
    "ExecuteTime": {
     "end_time": "2024-05-21T08:36:05.428441Z",
     "start_time": "2024-05-21T08:36:05.414161Z"
    }
   },
   "outputs": [
    {
     "data": {
      "text/plain": [
       "(414, 28)"
      ]
     },
     "execution_count": 8,
     "metadata": {},
     "output_type": "execute_result"
    }
   ],
   "source": [
    "df[df['Buy_Box_Item_Price'] < df['Price']].shape # ikiside ayni degerler"
   ]
  },
  {
   "cell_type": "code",
   "execution_count": 9,
   "id": "55e2590b",
   "metadata": {
    "ExecuteTime": {
     "end_time": "2024-05-21T08:36:05.448116Z",
     "start_time": "2024-05-21T08:36:05.432009Z"
    }
   },
   "outputs": [
    {
     "data": {
      "text/plain": [
       "0"
      ]
     },
     "execution_count": 9,
     "metadata": {},
     "output_type": "execute_result"
    }
   ],
   "source": [
    "df.isnull().sum().sum()"
   ]
  },
  {
   "cell_type": "code",
   "execution_count": 10,
   "id": "5f48e5f1",
   "metadata": {
    "ExecuteTime": {
     "end_time": "2024-05-21T08:36:06.067177Z",
     "start_time": "2024-05-21T08:36:05.450877Z"
    }
   },
   "outputs": [
    {
     "data": {
      "image/png": "[encoded data removed]",
      "text/plain": [
       "<Figure size 2000x1000 with 5 Axes>"
      ]
     },
     "metadata": {},
     "output_type": "display_data"
    }
   ],
   "source": [
    "features = ['Buy_Box_Item_Price', 'Price', 'Competitor_Price', 'Comparison_Price']\n",
    "\n",
    "plt.subplots(figsize=(20,10))\n",
    "\n",
    "for i, col in enumerate(features):\n",
    "    plt.subplot(2,3,i+1)\n",
    "    sb.distplot(df[col])\n",
    "plt.show()"
   ]
  },
  {
   "cell_type": "code",
   "execution_count": 11,
   "id": "7cbdb171",
   "metadata": {
    "ExecuteTime": {
     "end_time": "2024-05-21T08:36:06.447261Z",
     "start_time": "2024-05-21T08:36:06.070215Z"
    }
   },
   "outputs": [
    {
     "data": {
      "image/png": "[encoded data removed]",
      "text/plain": [
       "<Figure size 2000x1000 with 5 Axes>"
      ]
     },
     "metadata": {},
     "output_type": "display_data"
    }
   ],
   "source": [
    "plt.subplots(figsize=(20,10))\n",
    "for i, col in enumerate(features):\n",
    "    plt.subplot(2,3,i+1)\n",
    "    sb.boxplot(x=df[col])\n",
    "plt.show()"
   ]
  },
  {
   "cell_type": "markdown",
   "id": "da9e02e1",
   "metadata": {},
   "source": [
    "Feature-Engineering"
   ]
  },
  {
   "cell_type": "code",
   "execution_count": 12,
   "id": "0d72969f",
   "metadata": {
    "ExecuteTime": {
     "end_time": "2024-05-21T08:36:06.469404Z",
     "start_time": "2024-05-21T08:36:06.449708Z"
    }
   },
   "outputs": [
    {
     "data": {
      "text/html": [
       "<div>\n",
       "<style scoped>\n",
       "    .dataframe tbody tr th:only-of-type {\n",
       "        vertical-align: middle;\n",
       "    }\n",
       "\n",
       "    .dataframe tbody tr th {\n",
       "        vertical-align: top;\n",
       "    }\n",
       "\n",
       "    .dataframe thead th {\n",
       "        text-align: right;\n",
       "    }\n",
       "</style>\n",
       "<table border=\"1\" class=\"dataframe\">\n",
       "  <thead>\n",
       "    <tr style=\"text-align: right;\">\n",
       "      <th></th>\n",
       "      <th>Unnamed: 0</th>\n",
       "      <th>SKU</th>\n",
       "      <th>Product_Name</th>\n",
       "      <th>Product_Category</th>\n",
       "      <th>Price</th>\n",
       "      <th>Promo_Start_Date</th>\n",
       "      <th>Promo_End_Date</th>\n",
       "      <th>Comparison_Price</th>\n",
       "      <th>Comparison_Price_Type</th>\n",
       "      <th>Buy_Box_Item_Price</th>\n",
       "      <th>...</th>\n",
       "      <th>Primary_Category_Path</th>\n",
       "      <th>Brand</th>\n",
       "      <th>Offer_Start_Date</th>\n",
       "      <th>Offer_End_Date</th>\n",
       "      <th>Item_Creation_Date</th>\n",
       "      <th>Reviews_Count</th>\n",
       "      <th>Average_Rating</th>\n",
       "      <th>Competitor_Price</th>\n",
       "      <th>Competitor_Ship_Price</th>\n",
       "      <th>Cost</th>\n",
       "    </tr>\n",
       "  </thead>\n",
       "  <tbody>\n",
       "    <tr>\n",
       "      <th>301</th>\n",
       "      <td>301</td>\n",
       "      <td>078731971272-CB-F-L1-15.99</td>\n",
       "      <td>Dixie To Go Coffee Cups and Lids, 12 Oz, 120 C...</td>\n",
       "      <td>Home Decor, Kitchen, &amp; Other</td>\n",
       "      <td>39.15</td>\n",
       "      <td>1970-01-01</td>\n",
       "      <td>1970-01-01</td>\n",
       "      <td>29.99</td>\n",
       "      <td>Was Price</td>\n",
       "      <td>33.97</td>\n",
       "      <td>...</td>\n",
       "      <td>[\"Home Page\",\"Household Essentials\",\"Paper &amp; P...</td>\n",
       "      <td>Dixie</td>\n",
       "      <td>2022-09-18</td>\n",
       "      <td>2049-12-31</td>\n",
       "      <td>2021-09-15</td>\n",
       "      <td>1010</td>\n",
       "      <td>4.2</td>\n",
       "      <td>31.99</td>\n",
       "      <td>0.0</td>\n",
       "      <td>15.660</td>\n",
       "    </tr>\n",
       "    <tr>\n",
       "      <th>86</th>\n",
       "      <td>86</td>\n",
       "      <td>0819459015837-S-F-L1-19.92</td>\n",
       "      <td>Boogie Board VersaTile - Red</td>\n",
       "      <td>Other</td>\n",
       "      <td>15.99</td>\n",
       "      <td>1970-01-01</td>\n",
       "      <td>1970-01-01</td>\n",
       "      <td>19.99</td>\n",
       "      <td>Was Price</td>\n",
       "      <td>15.99</td>\n",
       "      <td>...</td>\n",
       "      <td>[\"Home Page\",\"Electronics\",\"Computers, Laptops...</td>\n",
       "      <td>BOOGIE BOARD</td>\n",
       "      <td>2022-08-09</td>\n",
       "      <td>2049-12-29</td>\n",
       "      <td>2021-08-09</td>\n",
       "      <td>13</td>\n",
       "      <td>4.7</td>\n",
       "      <td>25.77</td>\n",
       "      <td>0.0</td>\n",
       "      <td>6.396</td>\n",
       "    </tr>\n",
       "  </tbody>\n",
       "</table>\n",
       "<p>2 rows × 28 columns</p>\n",
       "</div>"
      ],
      "text/plain": [
       "     Unnamed: 0                         SKU  \\\n",
       "301         301  078731971272-CB-F-L1-15.99   \n",
       "86           86  0819459015837-S-F-L1-19.92   \n",
       "\n",
       "                                          Product_Name  \\\n",
       "301  Dixie To Go Coffee Cups and Lids, 12 Oz, 120 C...   \n",
       "86                        Boogie Board VersaTile - Red   \n",
       "\n",
       "                 Product_Category  Price Promo_Start_Date Promo_End_Date  \\\n",
       "301  Home Decor, Kitchen, & Other  39.15       1970-01-01     1970-01-01   \n",
       "86                          Other  15.99       1970-01-01     1970-01-01   \n",
       "\n",
       "     Comparison_Price Comparison_Price_Type  Buy_Box_Item_Price  ...  \\\n",
       "301             29.99             Was Price               33.97  ...   \n",
       "86              19.99             Was Price               15.99  ...   \n",
       "\n",
       "                                 Primary_Category_Path         Brand  \\\n",
       "301  [\"Home Page\",\"Household Essentials\",\"Paper & P...         Dixie   \n",
       "86   [\"Home Page\",\"Electronics\",\"Computers, Laptops...  BOOGIE BOARD   \n",
       "\n",
       "     Offer_Start_Date Offer_End_Date  Item_Creation_Date Reviews_Count  \\\n",
       "301        2022-09-18     2049-12-31          2021-09-15          1010   \n",
       "86         2022-08-09     2049-12-29          2021-08-09            13   \n",
       "\n",
       "    Average_Rating Competitor_Price Competitor_Ship_Price    Cost  \n",
       "301            4.2            31.99                   0.0  15.660  \n",
       "86             4.7            25.77                   0.0   6.396  \n",
       "\n",
       "[2 rows x 28 columns]"
      ]
     },
     "execution_count": 12,
     "metadata": {},
     "output_type": "execute_result"
    }
   ],
   "source": [
    "df.sample(2)"
   ]
  },
  {
   "cell_type": "code",
   "execution_count": 13,
   "id": "1f6b52e2",
   "metadata": {
    "ExecuteTime": {
     "end_time": "2024-05-21T08:36:06.511322Z",
     "start_time": "2024-05-21T08:36:06.471682Z"
    },
    "scrolled": false
   },
   "outputs": [
    {
     "data": {
      "text/html": [
       "<div>\n",
       "<style scoped>\n",
       "    .dataframe tbody tr th:only-of-type {\n",
       "        vertical-align: middle;\n",
       "    }\n",
       "\n",
       "    .dataframe tbody tr th {\n",
       "        vertical-align: top;\n",
       "    }\n",
       "\n",
       "    .dataframe thead th {\n",
       "        text-align: right;\n",
       "    }\n",
       "</style>\n",
       "<table border=\"1\" class=\"dataframe\">\n",
       "  <thead>\n",
       "    <tr style=\"text-align: right;\">\n",
       "      <th></th>\n",
       "      <th>Unnamed: 0</th>\n",
       "      <th>SKU</th>\n",
       "      <th>Product_Name</th>\n",
       "      <th>Product_Category</th>\n",
       "      <th>Price</th>\n",
       "      <th>Promo_Start_Date</th>\n",
       "      <th>Promo_End_Date</th>\n",
       "      <th>Comparison_Price</th>\n",
       "      <th>Comparison_Price_Type</th>\n",
       "      <th>Buy_Box_Item_Price</th>\n",
       "      <th>...</th>\n",
       "      <th>Average_Rating</th>\n",
       "      <th>Competitor_Price</th>\n",
       "      <th>Competitor_Ship_Price</th>\n",
       "      <th>Cost</th>\n",
       "      <th>start_day</th>\n",
       "      <th>start_month</th>\n",
       "      <th>start_year</th>\n",
       "      <th>end_day</th>\n",
       "      <th>end_month</th>\n",
       "      <th>end_year</th>\n",
       "    </tr>\n",
       "  </thead>\n",
       "  <tbody>\n",
       "    <tr>\n",
       "      <th>0</th>\n",
       "      <td>0</td>\n",
       "      <td>028400043816-C-F-L1-12.99</td>\n",
       "      <td>Sun Chips Whole Grain Snacks Variety Mix 30 Ba...</td>\n",
       "      <td>Food &amp; Beverage</td>\n",
       "      <td>39.99</td>\n",
       "      <td>1970-01-01</td>\n",
       "      <td>1970-01-01</td>\n",
       "      <td>30.98</td>\n",
       "      <td>Was Price</td>\n",
       "      <td>39.99</td>\n",
       "      <td>...</td>\n",
       "      <td>3.5</td>\n",
       "      <td>42.91</td>\n",
       "      <td>-1.0</td>\n",
       "      <td>15.996</td>\n",
       "      <td>29</td>\n",
       "      <td>8</td>\n",
       "      <td>2022</td>\n",
       "      <td>12</td>\n",
       "      <td>9</td>\n",
       "      <td>2041</td>\n",
       "    </tr>\n",
       "    <tr>\n",
       "      <th>1</th>\n",
       "      <td>1</td>\n",
       "      <td>096619461769-C-P-L1-11.49</td>\n",
       "      <td>Kirkland Signature Organic Balsamic Vinegar 1 ...</td>\n",
       "      <td>Food &amp; Beverage</td>\n",
       "      <td>25.99</td>\n",
       "      <td>1970-01-01</td>\n",
       "      <td>1970-01-01</td>\n",
       "      <td>28.95</td>\n",
       "      <td>Was Price</td>\n",
       "      <td>26.95</td>\n",
       "      <td>...</td>\n",
       "      <td>0.0</td>\n",
       "      <td>27.70</td>\n",
       "      <td>0.0</td>\n",
       "      <td>10.396</td>\n",
       "      <td>13</td>\n",
       "      <td>11</td>\n",
       "      <td>2022</td>\n",
       "      <td>13</td>\n",
       "      <td>11</td>\n",
       "      <td>2049</td>\n",
       "    </tr>\n",
       "    <tr>\n",
       "      <th>2</th>\n",
       "      <td>2</td>\n",
       "      <td>794297801814-CB-P-L1-46.99</td>\n",
       "      <td>20 oz Coke cup with logo</td>\n",
       "      <td>Other</td>\n",
       "      <td>103.99</td>\n",
       "      <td>1970-01-01</td>\n",
       "      <td>1970-01-01</td>\n",
       "      <td>103.99</td>\n",
       "      <td>Was Price</td>\n",
       "      <td>103.99</td>\n",
       "      <td>...</td>\n",
       "      <td>0.0</td>\n",
       "      <td>0.00</td>\n",
       "      <td>0.0</td>\n",
       "      <td>41.596</td>\n",
       "      <td>27</td>\n",
       "      <td>5</td>\n",
       "      <td>2023</td>\n",
       "      <td>31</td>\n",
       "      <td>12</td>\n",
       "      <td>2049</td>\n",
       "    </tr>\n",
       "    <tr>\n",
       "      <th>3</th>\n",
       "      <td>3</td>\n",
       "      <td>096619067237-CB-F-L1-13.99</td>\n",
       "      <td>Kirkland Signature Trail Mix Snack Packs 2 Oun...</td>\n",
       "      <td>Food &amp; Beverage</td>\n",
       "      <td>29.75</td>\n",
       "      <td>1970-01-01</td>\n",
       "      <td>1970-01-01</td>\n",
       "      <td>37.95</td>\n",
       "      <td>List Price</td>\n",
       "      <td>31.95</td>\n",
       "      <td>...</td>\n",
       "      <td>4.0</td>\n",
       "      <td>39.99</td>\n",
       "      <td>0.0</td>\n",
       "      <td>11.900</td>\n",
       "      <td>26</td>\n",
       "      <td>9</td>\n",
       "      <td>2017</td>\n",
       "      <td>26</td>\n",
       "      <td>9</td>\n",
       "      <td>2041</td>\n",
       "    </tr>\n",
       "    <tr>\n",
       "      <th>4</th>\n",
       "      <td>4</td>\n",
       "      <td>300410011574-C-P-L1-14.99</td>\n",
       "      <td>Lot of 8 Oral B CrossAction Advanced Soft Toot...</td>\n",
       "      <td>Beauty, Personal Care, &amp; Hygiene</td>\n",
       "      <td>20.99</td>\n",
       "      <td>1970-01-01</td>\n",
       "      <td>1970-01-01</td>\n",
       "      <td>19.99</td>\n",
       "      <td>Was Price</td>\n",
       "      <td>24.99</td>\n",
       "      <td>...</td>\n",
       "      <td>0.0</td>\n",
       "      <td>19.90</td>\n",
       "      <td>0.0</td>\n",
       "      <td>8.396</td>\n",
       "      <td>16</td>\n",
       "      <td>9</td>\n",
       "      <td>2022</td>\n",
       "      <td>27</td>\n",
       "      <td>9</td>\n",
       "      <td>2049</td>\n",
       "    </tr>\n",
       "  </tbody>\n",
       "</table>\n",
       "<p>5 rows × 34 columns</p>\n",
       "</div>"
      ],
      "text/plain": [
       "   Unnamed: 0                         SKU  \\\n",
       "0           0   028400043816-C-F-L1-12.99   \n",
       "1           1   096619461769-C-P-L1-11.49   \n",
       "2           2  794297801814-CB-P-L1-46.99   \n",
       "3           3  096619067237-CB-F-L1-13.99   \n",
       "4           4   300410011574-C-P-L1-14.99   \n",
       "\n",
       "                                        Product_Name  \\\n",
       "0  Sun Chips Whole Grain Snacks Variety Mix 30 Ba...   \n",
       "1  Kirkland Signature Organic Balsamic Vinegar 1 ...   \n",
       "2                           20 oz Coke cup with logo   \n",
       "3  Kirkland Signature Trail Mix Snack Packs 2 Oun...   \n",
       "4  Lot of 8 Oral B CrossAction Advanced Soft Toot...   \n",
       "\n",
       "                   Product_Category   Price Promo_Start_Date Promo_End_Date  \\\n",
       "0                   Food & Beverage   39.99       1970-01-01     1970-01-01   \n",
       "1                   Food & Beverage   25.99       1970-01-01     1970-01-01   \n",
       "2                             Other  103.99       1970-01-01     1970-01-01   \n",
       "3                   Food & Beverage   29.75       1970-01-01     1970-01-01   \n",
       "4  Beauty, Personal Care, & Hygiene   20.99       1970-01-01     1970-01-01   \n",
       "\n",
       "   Comparison_Price Comparison_Price_Type  Buy_Box_Item_Price  ...  \\\n",
       "0             30.98             Was Price               39.99  ...   \n",
       "1             28.95             Was Price               26.95  ...   \n",
       "2            103.99             Was Price              103.99  ...   \n",
       "3             37.95            List Price               31.95  ...   \n",
       "4             19.99             Was Price               24.99  ...   \n",
       "\n",
       "  Average_Rating  Competitor_Price  Competitor_Ship_Price    Cost  start_day  \\\n",
       "0            3.5             42.91                   -1.0  15.996         29   \n",
       "1            0.0             27.70                    0.0  10.396         13   \n",
       "2            0.0              0.00                    0.0  41.596         27   \n",
       "3            4.0             39.99                    0.0  11.900         26   \n",
       "4            0.0             19.90                    0.0   8.396         16   \n",
       "\n",
       "  start_month start_year end_day end_month end_year  \n",
       "0           8       2022      12         9     2041  \n",
       "1          11       2022      13        11     2049  \n",
       "2           5       2023      31        12     2049  \n",
       "3           9       2017      26         9     2041  \n",
       "4           9       2022      27         9     2049  \n",
       "\n",
       "[5 rows x 34 columns]"
      ]
     },
     "execution_count": 13,
     "metadata": {},
     "output_type": "execute_result"
    }
   ],
   "source": [
    "splitted = df['Offer_Start_Date'].str.split('-', expand=True)\n",
    "\n",
    "df['start_day'] = splitted[2].astype('int')\n",
    "df['start_month'] = splitted[1].astype('int')\n",
    "df['start_year'] = splitted[0].astype('int')\n",
    "\n",
    "splitted = df['Offer_End_Date'].str.split('-', expand=True)\n",
    "\n",
    "df['end_day'] = splitted[2].astype('int')\n",
    "df['end_month'] = splitted[1].astype('int')\n",
    "df['end_year'] = splitted[0].astype('int')\n",
    "\n",
    "df.head()"
   ]
  },
  {
   "cell_type": "code",
   "execution_count": 14,
   "id": "41e3e54d",
   "metadata": {
    "ExecuteTime": {
     "end_time": "2024-05-21T08:36:06.533948Z",
     "start_time": "2024-05-21T08:36:06.514588Z"
    }
   },
   "outputs": [
    {
     "data": {
      "text/html": [
       "<div>\n",
       "<style scoped>\n",
       "    .dataframe tbody tr th:only-of-type {\n",
       "        vertical-align: middle;\n",
       "    }\n",
       "\n",
       "    .dataframe tbody tr th {\n",
       "        vertical-align: top;\n",
       "    }\n",
       "\n",
       "    .dataframe thead th {\n",
       "        text-align: right;\n",
       "    }\n",
       "</style>\n",
       "<table border=\"1\" class=\"dataframe\">\n",
       "  <thead>\n",
       "    <tr style=\"text-align: right;\">\n",
       "      <th></th>\n",
       "      <th>Unnamed: 0</th>\n",
       "      <th>SKU</th>\n",
       "      <th>Product_Name</th>\n",
       "      <th>Product_Category</th>\n",
       "      <th>Price</th>\n",
       "      <th>Promo_Start_Date</th>\n",
       "      <th>Promo_End_Date</th>\n",
       "      <th>Comparison_Price</th>\n",
       "      <th>Comparison_Price_Type</th>\n",
       "      <th>Buy_Box_Item_Price</th>\n",
       "      <th>...</th>\n",
       "      <th>Competitor_Price</th>\n",
       "      <th>Competitor_Ship_Price</th>\n",
       "      <th>Cost</th>\n",
       "      <th>start_day</th>\n",
       "      <th>start_month</th>\n",
       "      <th>start_year</th>\n",
       "      <th>end_day</th>\n",
       "      <th>end_month</th>\n",
       "      <th>end_year</th>\n",
       "      <th>is_quarter_end</th>\n",
       "    </tr>\n",
       "  </thead>\n",
       "  <tbody>\n",
       "    <tr>\n",
       "      <th>970</th>\n",
       "      <td>970</td>\n",
       "      <td>Halley-Soldier-Hand4-Burgundy</td>\n",
       "      <td>HALLEY Decorative Hand Towels Set, 4 Pack - Tu...</td>\n",
       "      <td>Home Decor, Kitchen, &amp; Other</td>\n",
       "      <td>19.99</td>\n",
       "      <td>1970-01-01</td>\n",
       "      <td>1970-01-01</td>\n",
       "      <td>16.99</td>\n",
       "      <td>Was Price</td>\n",
       "      <td>19.99</td>\n",
       "      <td>...</td>\n",
       "      <td>20.40</td>\n",
       "      <td>0.0</td>\n",
       "      <td>7.996</td>\n",
       "      <td>17</td>\n",
       "      <td>11</td>\n",
       "      <td>2020</td>\n",
       "      <td>23</td>\n",
       "      <td>12</td>\n",
       "      <td>2049</td>\n",
       "      <td>0</td>\n",
       "    </tr>\n",
       "    <tr>\n",
       "      <th>217</th>\n",
       "      <td>217</td>\n",
       "      <td>191566646679-bstock-effergrip</td>\n",
       "      <td>Effergrip Denture Adhesive Cream, Minty Fresh ...</td>\n",
       "      <td>Beauty, Personal Care, &amp; Hygiene</td>\n",
       "      <td>13.90</td>\n",
       "      <td>1970-01-01</td>\n",
       "      <td>1970-01-01</td>\n",
       "      <td>14.74</td>\n",
       "      <td>Was Price</td>\n",
       "      <td>13.90</td>\n",
       "      <td>...</td>\n",
       "      <td>14.74</td>\n",
       "      <td>0.0</td>\n",
       "      <td>5.560</td>\n",
       "      <td>8</td>\n",
       "      <td>1</td>\n",
       "      <td>2024</td>\n",
       "      <td>30</td>\n",
       "      <td>12</td>\n",
       "      <td>2049</td>\n",
       "      <td>0</td>\n",
       "    </tr>\n",
       "    <tr>\n",
       "      <th>860</th>\n",
       "      <td>860</td>\n",
       "      <td>194735018093-C-P-L1-48.99</td>\n",
       "      <td>Wizarding World Harry Potter 5-Piece 10-inch F...</td>\n",
       "      <td>Toys</td>\n",
       "      <td>68.99</td>\n",
       "      <td>1970-01-01</td>\n",
       "      <td>1970-01-01</td>\n",
       "      <td>99.95</td>\n",
       "      <td>Was Price</td>\n",
       "      <td>99.95</td>\n",
       "      <td>...</td>\n",
       "      <td>95.00</td>\n",
       "      <td>0.0</td>\n",
       "      <td>27.596</td>\n",
       "      <td>29</td>\n",
       "      <td>10</td>\n",
       "      <td>2022</td>\n",
       "      <td>27</td>\n",
       "      <td>8</td>\n",
       "      <td>2049</td>\n",
       "      <td>0</td>\n",
       "    </tr>\n",
       "    <tr>\n",
       "      <th>55</th>\n",
       "      <td>55</td>\n",
       "      <td>028400480635-S-P-L1-12.98</td>\n",
       "      <td>SunChips Mix Variety Pack (30 Count)</td>\n",
       "      <td>Food &amp; Beverage</td>\n",
       "      <td>36.90</td>\n",
       "      <td>1970-01-01</td>\n",
       "      <td>1970-01-01</td>\n",
       "      <td>30.57</td>\n",
       "      <td>Was Price</td>\n",
       "      <td>29.99</td>\n",
       "      <td>...</td>\n",
       "      <td>36.90</td>\n",
       "      <td>0.0</td>\n",
       "      <td>14.760</td>\n",
       "      <td>15</td>\n",
       "      <td>3</td>\n",
       "      <td>2021</td>\n",
       "      <td>30</td>\n",
       "      <td>12</td>\n",
       "      <td>2049</td>\n",
       "      <td>1</td>\n",
       "    </tr>\n",
       "    <tr>\n",
       "      <th>745</th>\n",
       "      <td>745</td>\n",
       "      <td>810607020840-C-F-L2-8.99</td>\n",
       "      <td>PopCorners Popped-Corn Snack, Variety Pack, 1 ...</td>\n",
       "      <td>Food &amp; Beverage</td>\n",
       "      <td>29.99</td>\n",
       "      <td>1970-01-01</td>\n",
       "      <td>1970-01-01</td>\n",
       "      <td>27.42</td>\n",
       "      <td>Was Price</td>\n",
       "      <td>26.90</td>\n",
       "      <td>...</td>\n",
       "      <td>29.99</td>\n",
       "      <td>0.0</td>\n",
       "      <td>11.996</td>\n",
       "      <td>7</td>\n",
       "      <td>2</td>\n",
       "      <td>2021</td>\n",
       "      <td>30</td>\n",
       "      <td>12</td>\n",
       "      <td>2049</td>\n",
       "      <td>0</td>\n",
       "    </tr>\n",
       "  </tbody>\n",
       "</table>\n",
       "<p>5 rows × 35 columns</p>\n",
       "</div>"
      ],
      "text/plain": [
       "     Unnamed: 0                            SKU  \\\n",
       "970         970  Halley-Soldier-Hand4-Burgundy   \n",
       "217         217  191566646679-bstock-effergrip   \n",
       "860         860      194735018093-C-P-L1-48.99   \n",
       "55           55      028400480635-S-P-L1-12.98   \n",
       "745         745       810607020840-C-F-L2-8.99   \n",
       "\n",
       "                                          Product_Name  \\\n",
       "970  HALLEY Decorative Hand Towels Set, 4 Pack - Tu...   \n",
       "217  Effergrip Denture Adhesive Cream, Minty Fresh ...   \n",
       "860  Wizarding World Harry Potter 5-Piece 10-inch F...   \n",
       "55                SunChips Mix Variety Pack (30 Count)   \n",
       "745  PopCorners Popped-Corn Snack, Variety Pack, 1 ...   \n",
       "\n",
       "                     Product_Category  Price Promo_Start_Date Promo_End_Date  \\\n",
       "970      Home Decor, Kitchen, & Other  19.99       1970-01-01     1970-01-01   \n",
       "217  Beauty, Personal Care, & Hygiene  13.90       1970-01-01     1970-01-01   \n",
       "860                              Toys  68.99       1970-01-01     1970-01-01   \n",
       "55                    Food & Beverage  36.90       1970-01-01     1970-01-01   \n",
       "745                   Food & Beverage  29.99       1970-01-01     1970-01-01   \n",
       "\n",
       "     Comparison_Price Comparison_Price_Type  Buy_Box_Item_Price  ...  \\\n",
       "970             16.99             Was Price               19.99  ...   \n",
       "217             14.74             Was Price               13.90  ...   \n",
       "860             99.95             Was Price               99.95  ...   \n",
       "55              30.57             Was Price               29.99  ...   \n",
       "745             27.42             Was Price               26.90  ...   \n",
       "\n",
       "    Competitor_Price  Competitor_Ship_Price    Cost start_day  start_month  \\\n",
       "970            20.40                    0.0   7.996        17           11   \n",
       "217            14.74                    0.0   5.560         8            1   \n",
       "860            95.00                    0.0  27.596        29           10   \n",
       "55             36.90                    0.0  14.760        15            3   \n",
       "745            29.99                    0.0  11.996         7            2   \n",
       "\n",
       "    start_year end_day end_month end_year is_quarter_end  \n",
       "970       2020      23        12     2049              0  \n",
       "217       2024      30        12     2049              0  \n",
       "860       2022      27         8     2049              0  \n",
       "55        2021      30        12     2049              1  \n",
       "745       2021      30        12     2049              0  \n",
       "\n",
       "[5 rows x 35 columns]"
      ]
     },
     "execution_count": 14,
     "metadata": {},
     "output_type": "execute_result"
    }
   ],
   "source": [
    "df['is_quarter_end'] = np.where(df['start_month']%3==0,1,0)\n",
    "df.sample(5)"
   ]
  },
  {
   "cell_type": "code",
   "execution_count": 15,
   "id": "fe8c4f3d",
   "metadata": {
    "ExecuteTime": {
     "end_time": "2024-05-21T08:36:06.995207Z",
     "start_time": "2024-05-21T08:36:06.536066Z"
    },
    "scrolled": false
   },
   "outputs": [
    {
     "data": {
      "image/png": "[encoded data removed]",
      "text/plain": [
       "<Figure size 2000x1000 with 5 Axes>"
      ]
     },
     "metadata": {},
     "output_type": "display_data"
    }
   ],
   "source": [
    "data_grouped = df.groupby('start_year').mean()\n",
    "plt.subplots(figsize=(20,10))\n",
    "\n",
    "for i, col in enumerate(['Buy_Box_Item_Price', 'Price', 'Competitor_Price', 'Comparison_Price']):\n",
    "    plt.subplot(2,2,i+1)\n",
    "    data_grouped[col].plot.bar()\n",
    "plt.show()"
   ]
  },
  {
   "cell_type": "code",
   "execution_count": 16,
   "id": "64f87d68",
   "metadata": {
    "ExecuteTime": {
     "end_time": "2024-05-21T08:36:07.019052Z",
     "start_time": "2024-05-21T08:36:06.997838Z"
    },
    "scrolled": true
   },
   "outputs": [
    {
     "data": {
      "text/html": [
       "<div>\n",
       "<style scoped>\n",
       "    .dataframe tbody tr th:only-of-type {\n",
       "        vertical-align: middle;\n",
       "    }\n",
       "\n",
       "    .dataframe tbody tr th {\n",
       "        vertical-align: top;\n",
       "    }\n",
       "\n",
       "    .dataframe thead th {\n",
       "        text-align: right;\n",
       "    }\n",
       "</style>\n",
       "<table border=\"1\" class=\"dataframe\">\n",
       "  <thead>\n",
       "    <tr style=\"text-align: right;\">\n",
       "      <th></th>\n",
       "      <th>Unnamed: 0</th>\n",
       "      <th>Price</th>\n",
       "      <th>Comparison_Price</th>\n",
       "      <th>Buy_Box_Item_Price</th>\n",
       "      <th>MSRP</th>\n",
       "      <th>Product_Tax_Code</th>\n",
       "      <th>Shipping_Weight</th>\n",
       "      <th>Reviews_Count</th>\n",
       "      <th>Average_Rating</th>\n",
       "      <th>Competitor_Price</th>\n",
       "      <th>Competitor_Ship_Price</th>\n",
       "      <th>Cost</th>\n",
       "      <th>start_day</th>\n",
       "      <th>start_month</th>\n",
       "      <th>start_year</th>\n",
       "      <th>end_day</th>\n",
       "      <th>end_month</th>\n",
       "      <th>end_year</th>\n",
       "    </tr>\n",
       "    <tr>\n",
       "      <th>is_quarter_end</th>\n",
       "      <th></th>\n",
       "      <th></th>\n",
       "      <th></th>\n",
       "      <th></th>\n",
       "      <th></th>\n",
       "      <th></th>\n",
       "      <th></th>\n",
       "      <th></th>\n",
       "      <th></th>\n",
       "      <th></th>\n",
       "      <th></th>\n",
       "      <th></th>\n",
       "      <th></th>\n",
       "      <th></th>\n",
       "      <th></th>\n",
       "      <th></th>\n",
       "      <th></th>\n",
       "      <th></th>\n",
       "    </tr>\n",
       "  </thead>\n",
       "  <tbody>\n",
       "    <tr>\n",
       "      <th>0</th>\n",
       "      <td>513.311669</td>\n",
       "      <td>44.388168</td>\n",
       "      <td>44.591581</td>\n",
       "      <td>42.123929</td>\n",
       "      <td>34.845968</td>\n",
       "      <td>2.059097e+06</td>\n",
       "      <td>5.219091</td>\n",
       "      <td>368.072378</td>\n",
       "      <td>2.972378</td>\n",
       "      <td>36.788538</td>\n",
       "      <td>0.026278</td>\n",
       "      <td>17.755267</td>\n",
       "      <td>14.673560</td>\n",
       "      <td>5.707533</td>\n",
       "      <td>2022.502216</td>\n",
       "      <td>26.896603</td>\n",
       "      <td>11.140325</td>\n",
       "      <td>2047.936484</td>\n",
       "    </tr>\n",
       "    <tr>\n",
       "      <th>1</th>\n",
       "      <td>536.604905</td>\n",
       "      <td>48.253706</td>\n",
       "      <td>47.873215</td>\n",
       "      <td>45.837112</td>\n",
       "      <td>43.162916</td>\n",
       "      <td>2.043358e+06</td>\n",
       "      <td>5.687362</td>\n",
       "      <td>521.032698</td>\n",
       "      <td>3.097101</td>\n",
       "      <td>40.765014</td>\n",
       "      <td>0.108038</td>\n",
       "      <td>19.301482</td>\n",
       "      <td>17.070845</td>\n",
       "      <td>8.525886</td>\n",
       "      <td>2022.416894</td>\n",
       "      <td>27.108992</td>\n",
       "      <td>11.035422</td>\n",
       "      <td>2047.700272</td>\n",
       "    </tr>\n",
       "  </tbody>\n",
       "</table>\n",
       "</div>"
      ],
      "text/plain": [
       "                Unnamed: 0      Price  Comparison_Price  Buy_Box_Item_Price  \\\n",
       "is_quarter_end                                                                \n",
       "0               513.311669  44.388168         44.591581           42.123929   \n",
       "1               536.604905  48.253706         47.873215           45.837112   \n",
       "\n",
       "                     MSRP  Product_Tax_Code  Shipping_Weight  Reviews_Count  \\\n",
       "is_quarter_end                                                                \n",
       "0               34.845968      2.059097e+06         5.219091     368.072378   \n",
       "1               43.162916      2.043358e+06         5.687362     521.032698   \n",
       "\n",
       "                Average_Rating  Competitor_Price  Competitor_Ship_Price  \\\n",
       "is_quarter_end                                                            \n",
       "0                     2.972378         36.788538               0.026278   \n",
       "1                     3.097101         40.765014               0.108038   \n",
       "\n",
       "                     Cost  start_day  start_month   start_year    end_day  \\\n",
       "is_quarter_end                                                              \n",
       "0               17.755267  14.673560     5.707533  2022.502216  26.896603   \n",
       "1               19.301482  17.070845     8.525886  2022.416894  27.108992   \n",
       "\n",
       "                end_month     end_year  \n",
       "is_quarter_end                          \n",
       "0               11.140325  2047.936484  \n",
       "1               11.035422  2047.700272  "
      ]
     },
     "execution_count": 16,
     "metadata": {},
     "output_type": "execute_result"
    }
   ],
   "source": [
    "df.groupby('is_quarter_end').mean()"
   ]
  },
  {
   "cell_type": "code",
   "execution_count": 17,
   "id": "5337de2c",
   "metadata": {
    "ExecuteTime": {
     "end_time": "2024-05-21T08:36:07.035079Z",
     "start_time": "2024-05-21T08:36:07.021363Z"
    },
    "scrolled": false
   },
   "outputs": [
    {
     "name": "stdout",
     "output_type": "stream",
     "text": [
      "<class 'pandas.core.frame.DataFrame'>\n",
      "RangeIndex: 1044 entries, 0 to 1043\n",
      "Data columns (total 35 columns):\n",
      " #   Column                 Non-Null Count  Dtype  \n",
      "---  ------                 --------------  -----  \n",
      " 0   Unnamed: 0             1044 non-null   int64  \n",
      " 1   SKU                    1044 non-null   object \n",
      " 2   Product_Name           1044 non-null   object \n",
      " 3   Product_Category       1044 non-null   object \n",
      " 4   Price                  1044 non-null   float64\n",
      " 5   Promo_Start_Date       1044 non-null   object \n",
      " 6   Promo_End_Date         1044 non-null   object \n",
      " 7   Comparison_Price       1044 non-null   float64\n",
      " 8   Comparison_Price_Type  1044 non-null   object \n",
      " 9   Buy_Box_Item_Price     1044 non-null   float64\n",
      " 10  Buy_Box_Eligible       1044 non-null   object \n",
      " 11  MSRP                   1044 non-null   float64\n",
      " 12  Product_Tax_Code       1044 non-null   int64  \n",
      " 13  Ship_Methods           1044 non-null   object \n",
      " 14  Shipping_Weight        1044 non-null   float64\n",
      " 15  Fulfillment_Type       1044 non-null   object \n",
      " 16  WFS_Sales_Restriction  1044 non-null   object \n",
      " 17  Shelf_Name             1044 non-null   object \n",
      " 18  Primary_Category_Path  1044 non-null   object \n",
      " 19  Brand                  1044 non-null   object \n",
      " 20  Offer_Start_Date       1044 non-null   object \n",
      " 21  Offer_End_Date         1044 non-null   object \n",
      " 22  Item_Creation_Date     1044 non-null   object \n",
      " 23  Reviews_Count          1044 non-null   int64  \n",
      " 24  Average_Rating         1044 non-null   float64\n",
      " 25  Competitor_Price       1044 non-null   float64\n",
      " 26  Competitor_Ship_Price  1044 non-null   float64\n",
      " 27  Cost                   1044 non-null   float64\n",
      " 28  start_day              1044 non-null   int32  \n",
      " 29  start_month            1044 non-null   int32  \n",
      " 30  start_year             1044 non-null   int32  \n",
      " 31  end_day                1044 non-null   int32  \n",
      " 32  end_month              1044 non-null   int32  \n",
      " 33  end_year               1044 non-null   int32  \n",
      " 34  is_quarter_end         1044 non-null   int32  \n",
      "dtypes: float64(9), int32(7), int64(3), object(16)\n",
      "memory usage: 257.0+ KB\n"
     ]
    }
   ],
   "source": [
    "df.info()"
   ]
  },
  {
   "cell_type": "markdown",
   "id": "85fe472d",
   "metadata": {},
   "source": [
    "# ordinal encoding"
   ]
  },
  {
   "cell_type": "code",
   "execution_count": 18,
   "id": "8682235a",
   "metadata": {
    "ExecuteTime": {
     "end_time": "2024-05-21T08:36:07.080284Z",
     "start_time": "2024-05-21T08:36:07.037083Z"
    },
    "scrolled": true
   },
   "outputs": [
    {
     "data": {
      "text/html": [
       "<div>\n",
       "<style scoped>\n",
       "    .dataframe tbody tr th:only-of-type {\n",
       "        vertical-align: middle;\n",
       "    }\n",
       "\n",
       "    .dataframe tbody tr th {\n",
       "        vertical-align: top;\n",
       "    }\n",
       "\n",
       "    .dataframe thead th {\n",
       "        text-align: right;\n",
       "    }\n",
       "</style>\n",
       "<table border=\"1\" class=\"dataframe\">\n",
       "  <thead>\n",
       "    <tr style=\"text-align: right;\">\n",
       "      <th></th>\n",
       "      <th>Product_Name</th>\n",
       "      <th>Product_Category</th>\n",
       "      <th>Comparison_Price_Type</th>\n",
       "      <th>Buy_Box_Eligible</th>\n",
       "      <th>Ship_Methods</th>\n",
       "      <th>Fulfillment_Type</th>\n",
       "      <th>WFS_Sales_Restriction</th>\n",
       "      <th>Shelf_Name</th>\n",
       "      <th>Brand</th>\n",
       "      <th>Unnamed: 0</th>\n",
       "      <th>...</th>\n",
       "      <th>Competitor_Price</th>\n",
       "      <th>Competitor_Ship_Price</th>\n",
       "      <th>Cost</th>\n",
       "      <th>start_day</th>\n",
       "      <th>start_month</th>\n",
       "      <th>start_year</th>\n",
       "      <th>end_day</th>\n",
       "      <th>end_month</th>\n",
       "      <th>end_year</th>\n",
       "      <th>is_quarter_end</th>\n",
       "    </tr>\n",
       "  </thead>\n",
       "  <tbody>\n",
       "    <tr>\n",
       "      <th>461</th>\n",
       "      <td>537.0</td>\n",
       "      <td>23.0</td>\n",
       "      <td>1.0</td>\n",
       "      <td>1.0</td>\n",
       "      <td>0.0</td>\n",
       "      <td>2.0</td>\n",
       "      <td>9.0</td>\n",
       "      <td>392.0</td>\n",
       "      <td>238.0</td>\n",
       "      <td>461</td>\n",
       "      <td>...</td>\n",
       "      <td>5.98</td>\n",
       "      <td>0.0</td>\n",
       "      <td>4.760</td>\n",
       "      <td>21</td>\n",
       "      <td>2</td>\n",
       "      <td>2024</td>\n",
       "      <td>31</td>\n",
       "      <td>12</td>\n",
       "      <td>2049</td>\n",
       "      <td>0</td>\n",
       "    </tr>\n",
       "    <tr>\n",
       "      <th>155</th>\n",
       "      <td>721.0</td>\n",
       "      <td>16.0</td>\n",
       "      <td>1.0</td>\n",
       "      <td>1.0</td>\n",
       "      <td>0.0</td>\n",
       "      <td>1.0</td>\n",
       "      <td>9.0</td>\n",
       "      <td>482.0</td>\n",
       "      <td>320.0</td>\n",
       "      <td>155</td>\n",
       "      <td>...</td>\n",
       "      <td>6.59</td>\n",
       "      <td>0.0</td>\n",
       "      <td>6.760</td>\n",
       "      <td>21</td>\n",
       "      <td>3</td>\n",
       "      <td>2024</td>\n",
       "      <td>31</td>\n",
       "      <td>12</td>\n",
       "      <td>2049</td>\n",
       "      <td>1</td>\n",
       "    </tr>\n",
       "    <tr>\n",
       "      <th>62</th>\n",
       "      <td>435.0</td>\n",
       "      <td>23.0</td>\n",
       "      <td>1.0</td>\n",
       "      <td>1.0</td>\n",
       "      <td>0.0</td>\n",
       "      <td>1.0</td>\n",
       "      <td>9.0</td>\n",
       "      <td>499.0</td>\n",
       "      <td>193.0</td>\n",
       "      <td>62</td>\n",
       "      <td>...</td>\n",
       "      <td>0.00</td>\n",
       "      <td>0.0</td>\n",
       "      <td>7.196</td>\n",
       "      <td>9</td>\n",
       "      <td>9</td>\n",
       "      <td>2023</td>\n",
       "      <td>25</td>\n",
       "      <td>12</td>\n",
       "      <td>2049</td>\n",
       "      <td>1</td>\n",
       "    </tr>\n",
       "  </tbody>\n",
       "</table>\n",
       "<p>3 rows × 35 columns</p>\n",
       "</div>"
      ],
      "text/plain": [
       "     Product_Name  Product_Category  Comparison_Price_Type  Buy_Box_Eligible  \\\n",
       "461         537.0              23.0                    1.0               1.0   \n",
       "155         721.0              16.0                    1.0               1.0   \n",
       "62          435.0              23.0                    1.0               1.0   \n",
       "\n",
       "     Ship_Methods  Fulfillment_Type  WFS_Sales_Restriction  Shelf_Name  Brand  \\\n",
       "461           0.0               2.0                    9.0       392.0  238.0   \n",
       "155           0.0               1.0                    9.0       482.0  320.0   \n",
       "62            0.0               1.0                    9.0       499.0  193.0   \n",
       "\n",
       "     Unnamed: 0  ... Competitor_Price  Competitor_Ship_Price   Cost start_day  \\\n",
       "461         461  ...             5.98                    0.0  4.760        21   \n",
       "155         155  ...             6.59                    0.0  6.760        21   \n",
       "62           62  ...             0.00                    0.0  7.196         9   \n",
       "\n",
       "     start_month  start_year  end_day  end_month  end_year is_quarter_end  \n",
       "461            2        2024       31         12      2049              0  \n",
       "155            3        2024       31         12      2049              1  \n",
       "62             9        2023       25         12      2049              1  \n",
       "\n",
       "[3 rows x 35 columns]"
      ]
     },
     "execution_count": 18,
     "metadata": {},
     "output_type": "execute_result"
    }
   ],
   "source": [
    "from sklearn.preprocessing import OrdinalEncoder\n",
    "\n",
    "# OrdinalEncoder'ı oluştur\n",
    "encoder = OrdinalEncoder()\n",
    "\n",
    "# Kategorik sütunları seçin\n",
    "columns_to_encode = ['Product_Name', 'Product_Category', 'Comparison_Price_Type', \n",
    "                     'Buy_Box_Eligible', 'Ship_Methods', 'Fulfillment_Type', \n",
    "                     'WFS_Sales_Restriction', 'Shelf_Name', 'Brand']\n",
    "                     \n",
    "# Kategorik sütunları encode edin\n",
    "df_obj_enc = encoder.fit_transform(df[columns_to_encode])\n",
    "\n",
    "# Encode edilmiş veriyi DataFrame'e dönüştürün\n",
    "df_obj_enc_df = pd.DataFrame(df_obj_enc, columns=columns_to_encode)\n",
    "\n",
    "# Diğer sütunları alın\n",
    "df_num = df.drop(columns=columns_to_encode)\n",
    "\n",
    "# DataFrame'leri birleştirin\n",
    "df_encoded = pd.concat([df_obj_enc_df, df_num], axis=1)\n",
    "\n",
    "df_encoded.sample(3)"
   ]
  },
  {
   "cell_type": "code",
   "execution_count": 19,
   "id": "dfefc94f",
   "metadata": {
    "ExecuteTime": {
     "end_time": "2024-05-21T08:36:07.103159Z",
     "start_time": "2024-05-21T08:36:07.083232Z"
    },
    "scrolled": true
   },
   "outputs": [
    {
     "data": {
      "text/html": [
       "<div>\n",
       "<style scoped>\n",
       "    .dataframe tbody tr th:only-of-type {\n",
       "        vertical-align: middle;\n",
       "    }\n",
       "\n",
       "    .dataframe tbody tr th {\n",
       "        vertical-align: top;\n",
       "    }\n",
       "\n",
       "    .dataframe thead th {\n",
       "        text-align: right;\n",
       "    }\n",
       "</style>\n",
       "<table border=\"1\" class=\"dataframe\">\n",
       "  <thead>\n",
       "    <tr style=\"text-align: right;\">\n",
       "      <th></th>\n",
       "      <th>Product_Name</th>\n",
       "      <th>Product_Category</th>\n",
       "      <th>Comparison_Price_Type</th>\n",
       "      <th>Buy_Box_Eligible</th>\n",
       "      <th>Ship_Methods</th>\n",
       "      <th>Fulfillment_Type</th>\n",
       "      <th>WFS_Sales_Restriction</th>\n",
       "      <th>Shelf_Name</th>\n",
       "      <th>Brand</th>\n",
       "      <th>Unnamed: 0</th>\n",
       "      <th>...</th>\n",
       "      <th>Competitor_Price</th>\n",
       "      <th>Competitor_Ship_Price</th>\n",
       "      <th>Cost</th>\n",
       "      <th>start_day</th>\n",
       "      <th>start_month</th>\n",
       "      <th>start_year</th>\n",
       "      <th>end_day</th>\n",
       "      <th>end_month</th>\n",
       "      <th>end_year</th>\n",
       "      <th>is_quarter_end</th>\n",
       "    </tr>\n",
       "  </thead>\n",
       "  <tbody>\n",
       "    <tr>\n",
       "      <th>737</th>\n",
       "      <td>448.0</td>\n",
       "      <td>16.0</td>\n",
       "      <td>1.0</td>\n",
       "      <td>1.0</td>\n",
       "      <td>0.0</td>\n",
       "      <td>1.0</td>\n",
       "      <td>9.0</td>\n",
       "      <td>195.0</td>\n",
       "      <td>194.0</td>\n",
       "      <td>737</td>\n",
       "      <td>...</td>\n",
       "      <td>13.50</td>\n",
       "      <td>0.0</td>\n",
       "      <td>5.196</td>\n",
       "      <td>23</td>\n",
       "      <td>7</td>\n",
       "      <td>2022</td>\n",
       "      <td>20</td>\n",
       "      <td>12</td>\n",
       "      <td>2049</td>\n",
       "      <td>0</td>\n",
       "    </tr>\n",
       "    <tr>\n",
       "      <th>235</th>\n",
       "      <td>805.0</td>\n",
       "      <td>28.0</td>\n",
       "      <td>0.0</td>\n",
       "      <td>1.0</td>\n",
       "      <td>0.0</td>\n",
       "      <td>2.0</td>\n",
       "      <td>9.0</td>\n",
       "      <td>106.0</td>\n",
       "      <td>370.0</td>\n",
       "      <td>235</td>\n",
       "      <td>...</td>\n",
       "      <td>32.99</td>\n",
       "      <td>0.0</td>\n",
       "      <td>10.900</td>\n",
       "      <td>20</td>\n",
       "      <td>11</td>\n",
       "      <td>2022</td>\n",
       "      <td>20</td>\n",
       "      <td>11</td>\n",
       "      <td>2049</td>\n",
       "      <td>0</td>\n",
       "    </tr>\n",
       "    <tr>\n",
       "      <th>887</th>\n",
       "      <td>308.0</td>\n",
       "      <td>23.0</td>\n",
       "      <td>1.0</td>\n",
       "      <td>1.0</td>\n",
       "      <td>0.0</td>\n",
       "      <td>2.0</td>\n",
       "      <td>3.0</td>\n",
       "      <td>230.0</td>\n",
       "      <td>191.0</td>\n",
       "      <td>887</td>\n",
       "      <td>...</td>\n",
       "      <td>108.00</td>\n",
       "      <td>0.0</td>\n",
       "      <td>43.200</td>\n",
       "      <td>31</td>\n",
       "      <td>1</td>\n",
       "      <td>2024</td>\n",
       "      <td>30</td>\n",
       "      <td>12</td>\n",
       "      <td>2049</td>\n",
       "      <td>0</td>\n",
       "    </tr>\n",
       "  </tbody>\n",
       "</table>\n",
       "<p>3 rows × 35 columns</p>\n",
       "</div>"
      ],
      "text/plain": [
       "     Product_Name  Product_Category  Comparison_Price_Type  Buy_Box_Eligible  \\\n",
       "737         448.0              16.0                    1.0               1.0   \n",
       "235         805.0              28.0                    0.0               1.0   \n",
       "887         308.0              23.0                    1.0               1.0   \n",
       "\n",
       "     Ship_Methods  Fulfillment_Type  WFS_Sales_Restriction  Shelf_Name  Brand  \\\n",
       "737           0.0               1.0                    9.0       195.0  194.0   \n",
       "235           0.0               2.0                    9.0       106.0  370.0   \n",
       "887           0.0               2.0                    3.0       230.0  191.0   \n",
       "\n",
       "     Unnamed: 0  ... Competitor_Price  Competitor_Ship_Price    Cost  \\\n",
       "737         737  ...            13.50                    0.0   5.196   \n",
       "235         235  ...            32.99                    0.0  10.900   \n",
       "887         887  ...           108.00                    0.0  43.200   \n",
       "\n",
       "    start_day  start_month  start_year  end_day  end_month  end_year  \\\n",
       "737        23            7        2022       20         12      2049   \n",
       "235        20           11        2022       20         11      2049   \n",
       "887        31            1        2024       30         12      2049   \n",
       "\n",
       "    is_quarter_end  \n",
       "737              0  \n",
       "235              0  \n",
       "887              0  \n",
       "\n",
       "[3 rows x 35 columns]"
      ]
     },
     "execution_count": 19,
     "metadata": {},
     "output_type": "execute_result"
    }
   ],
   "source": [
    "df_encoded.sample(3)"
   ]
  },
  {
   "cell_type": "code",
   "execution_count": 20,
   "id": "a2ddcdda",
   "metadata": {
    "ExecuteTime": {
     "end_time": "2024-05-21T08:36:07.118540Z",
     "start_time": "2024-05-21T08:36:07.104527Z"
    }
   },
   "outputs": [
    {
     "name": "stdout",
     "output_type": "stream",
     "text": [
      "<class 'pandas.core.frame.DataFrame'>\n",
      "RangeIndex: 1044 entries, 0 to 1043\n",
      "Data columns (total 35 columns):\n",
      " #   Column                 Non-Null Count  Dtype  \n",
      "---  ------                 --------------  -----  \n",
      " 0   Product_Name           1044 non-null   float64\n",
      " 1   Product_Category       1044 non-null   float64\n",
      " 2   Comparison_Price_Type  1044 non-null   float64\n",
      " 3   Buy_Box_Eligible       1044 non-null   float64\n",
      " 4   Ship_Methods           1044 non-null   float64\n",
      " 5   Fulfillment_Type       1044 non-null   float64\n",
      " 6   WFS_Sales_Restriction  1044 non-null   float64\n",
      " 7   Shelf_Name             1044 non-null   float64\n",
      " 8   Brand                  1044 non-null   float64\n",
      " 9   Unnamed: 0             1044 non-null   int64  \n",
      " 10  SKU                    1044 non-null   object \n",
      " 11  Price                  1044 non-null   float64\n",
      " 12  Promo_Start_Date       1044 non-null   object \n",
      " 13  Promo_End_Date         1044 non-null   object \n",
      " 14  Comparison_Price       1044 non-null   float64\n",
      " 15  Buy_Box_Item_Price     1044 non-null   float64\n",
      " 16  MSRP                   1044 non-null   float64\n",
      " 17  Product_Tax_Code       1044 non-null   int64  \n",
      " 18  Shipping_Weight        1044 non-null   float64\n",
      " 19  Primary_Category_Path  1044 non-null   object \n",
      " 20  Offer_Start_Date       1044 non-null   object \n",
      " 21  Offer_End_Date         1044 non-null   object \n",
      " 22  Item_Creation_Date     1044 non-null   object \n",
      " 23  Reviews_Count          1044 non-null   int64  \n",
      " 24  Average_Rating         1044 non-null   float64\n",
      " 25  Competitor_Price       1044 non-null   float64\n",
      " 26  Competitor_Ship_Price  1044 non-null   float64\n",
      " 27  Cost                   1044 non-null   float64\n",
      " 28  start_day              1044 non-null   int32  \n",
      " 29  start_month            1044 non-null   int32  \n",
      " 30  start_year             1044 non-null   int32  \n",
      " 31  end_day                1044 non-null   int32  \n",
      " 32  end_month              1044 non-null   int32  \n",
      " 33  end_year               1044 non-null   int32  \n",
      " 34  is_quarter_end         1044 non-null   int32  \n",
      "dtypes: float64(18), int32(7), int64(3), object(7)\n",
      "memory usage: 257.0+ KB\n"
     ]
    }
   ],
   "source": [
    "df_encoded.info()"
   ]
  },
  {
   "cell_type": "code",
   "execution_count": 21,
   "id": "e282060a",
   "metadata": {
    "ExecuteTime": {
     "end_time": "2024-05-21T08:36:07.132443Z",
     "start_time": "2024-05-21T08:36:07.121390Z"
    }
   },
   "outputs": [],
   "source": [
    "df_encoded.drop(columns=['Unnamed: 0', 'SKU','Promo_Start_Date', 'Promo_End_Date', \n",
    "                 'Primary_Category_Path', 'Item_Creation_Date', 'Offer_Start_Date',\n",
    "                        'Offer_End_Date'], inplace=True)"
   ]
  },
  {
   "cell_type": "markdown",
   "id": "dfb8c772",
   "metadata": {},
   "source": [
    "# model"
   ]
  },
  {
   "cell_type": "code",
   "execution_count": 22,
   "id": "5889cc71",
   "metadata": {
    "ExecuteTime": {
     "end_time": "2024-05-21T08:36:07.147657Z",
     "start_time": "2024-05-21T08:36:07.134675Z"
    }
   },
   "outputs": [
    {
     "name": "stdout",
     "output_type": "stream",
     "text": [
      "(939, 26) (105, 26)\n"
     ]
    }
   ],
   "source": [
    "X = df_encoded.drop(['Buy_Box_Item_Price'], axis=1)\n",
    "y = df_encoded['Buy_Box_Item_Price']\n",
    "\n",
    "scaler = StandardScaler()\n",
    "X = scaler.fit_transform(X)\n",
    "\n",
    "y = pd.DataFrame(y)\n",
    "y = y.values.reshape(-1, 1)\n",
    "\n",
    "X_train, X_test, y_train, y_test = train_test_split(X, y, test_size=0.1, random_state=42)\n",
    "print(X_train.shape, X_test.shape)\n"
   ]
  },
  {
   "cell_type": "code",
   "execution_count": 23,
   "id": "5e63d8f4",
   "metadata": {
    "ExecuteTime": {
     "end_time": "2024-05-21T08:36:07.174922Z",
     "start_time": "2024-05-21T08:36:07.150125Z"
    }
   },
   "outputs": [
    {
     "data": {
      "text/html": [
       "<div>\n",
       "<style scoped>\n",
       "    .dataframe tbody tr th:only-of-type {\n",
       "        vertical-align: middle;\n",
       "    }\n",
       "\n",
       "    .dataframe tbody tr th {\n",
       "        vertical-align: top;\n",
       "    }\n",
       "\n",
       "    .dataframe thead th {\n",
       "        text-align: right;\n",
       "    }\n",
       "</style>\n",
       "<table border=\"1\" class=\"dataframe\">\n",
       "  <thead>\n",
       "    <tr style=\"text-align: right;\">\n",
       "      <th></th>\n",
       "      <th>Actual</th>\n",
       "      <th>pred</th>\n",
       "      <th>residual</th>\n",
       "    </tr>\n",
       "  </thead>\n",
       "  <tbody>\n",
       "    <tr>\n",
       "      <th>0</th>\n",
       "      <td>21.49</td>\n",
       "      <td>21.462719</td>\n",
       "      <td>0.027281</td>\n",
       "    </tr>\n",
       "    <tr>\n",
       "      <th>1</th>\n",
       "      <td>30.88</td>\n",
       "      <td>26.579918</td>\n",
       "      <td>4.300082</td>\n",
       "    </tr>\n",
       "    <tr>\n",
       "      <th>2</th>\n",
       "      <td>24.99</td>\n",
       "      <td>31.785524</td>\n",
       "      <td>-6.795524</td>\n",
       "    </tr>\n",
       "    <tr>\n",
       "      <th>3</th>\n",
       "      <td>17.81</td>\n",
       "      <td>21.433838</td>\n",
       "      <td>-3.623838</td>\n",
       "    </tr>\n",
       "    <tr>\n",
       "      <th>4</th>\n",
       "      <td>28.98</td>\n",
       "      <td>38.307619</td>\n",
       "      <td>-9.327619</td>\n",
       "    </tr>\n",
       "    <tr>\n",
       "      <th>...</th>\n",
       "      <td>...</td>\n",
       "      <td>...</td>\n",
       "      <td>...</td>\n",
       "    </tr>\n",
       "    <tr>\n",
       "      <th>100</th>\n",
       "      <td>21.41</td>\n",
       "      <td>24.785188</td>\n",
       "      <td>-3.375188</td>\n",
       "    </tr>\n",
       "    <tr>\n",
       "      <th>101</th>\n",
       "      <td>264.98</td>\n",
       "      <td>242.106754</td>\n",
       "      <td>22.873246</td>\n",
       "    </tr>\n",
       "    <tr>\n",
       "      <th>102</th>\n",
       "      <td>156.99</td>\n",
       "      <td>141.504960</td>\n",
       "      <td>15.485040</td>\n",
       "    </tr>\n",
       "    <tr>\n",
       "      <th>103</th>\n",
       "      <td>34.99</td>\n",
       "      <td>56.545793</td>\n",
       "      <td>-21.555793</td>\n",
       "    </tr>\n",
       "    <tr>\n",
       "      <th>104</th>\n",
       "      <td>38.00</td>\n",
       "      <td>17.727475</td>\n",
       "      <td>20.272525</td>\n",
       "    </tr>\n",
       "  </tbody>\n",
       "</table>\n",
       "<p>105 rows × 3 columns</p>\n",
       "</div>"
      ],
      "text/plain": [
       "     Actual        pred   residual\n",
       "0     21.49   21.462719   0.027281\n",
       "1     30.88   26.579918   4.300082\n",
       "2     24.99   31.785524  -6.795524\n",
       "3     17.81   21.433838  -3.623838\n",
       "4     28.98   38.307619  -9.327619\n",
       "..      ...         ...        ...\n",
       "100   21.41   24.785188  -3.375188\n",
       "101  264.98  242.106754  22.873246\n",
       "102  156.99  141.504960  15.485040\n",
       "103   34.99   56.545793 -21.555793\n",
       "104   38.00   17.727475  20.272525\n",
       "\n",
       "[105 rows x 3 columns]"
      ]
     },
     "execution_count": 23,
     "metadata": {},
     "output_type": "execute_result"
    }
   ],
   "source": [
    "from sklearn.linear_model import LinearRegression\n",
    "\n",
    "model_poly = LinearRegression()\n",
    "\n",
    "model_poly.fit(X_train, y_train)\n",
    "\n",
    "y_pred = model_poly.predict(X_test)\n",
    "\n",
    "# Sütun vektörlerine dönüştürme\n",
    "y_test = y_test.reshape(-1, 1)\n",
    "y_pred = y_pred.reshape(-1, 1)\n",
    "\n",
    "my_dict = {\"Actual\": y_test.flatten(), \"pred\": y_pred.flatten(), \"residual\": y_test.flatten() - y_pred.flatten()}\n",
    "compare = pd.DataFrame(my_dict)\n",
    "compare"
   ]
  },
  {
   "cell_type": "code",
   "execution_count": 24,
   "id": "a036b01f",
   "metadata": {
    "ExecuteTime": {
     "end_time": "2024-05-21T08:36:07.563301Z",
     "start_time": "2024-05-21T08:36:07.177934Z"
    }
   },
   "outputs": [
    {
     "data": {
      "image/png": "[encoded data removed]",
      "text/plain": [
       "<Figure size 1500x900 with 1 Axes>"
      ]
     },
     "metadata": {},
     "output_type": "display_data"
    }
   ],
   "source": [
    "compare.sample(20).plot(kind=\"bar\", figsize=(15,9));"
   ]
  },
  {
   "cell_type": "code",
   "execution_count": 25,
   "id": "91982526",
   "metadata": {
    "ExecuteTime": {
     "end_time": "2024-05-21T08:36:07.573121Z",
     "start_time": "2024-05-21T08:36:07.566759Z"
    }
   },
   "outputs": [],
   "source": [
    "from sklearn.metrics import mean_absolute_error,mean_squared_error,r2_score\n",
    "\n",
    "def eval_metric(actual, pred):\n",
    "    mae = mean_absolute_error(actual, pred)\n",
    "    mse = mean_squared_error(actual, pred)\n",
    "    rmse = np.sqrt(mean_squared_error(actual, pred))\n",
    "    R2_score = r2_score(actual, pred)\n",
    "    print(\"Model testing performance:\")\n",
    "    print(\"--------------------------\")\n",
    "    print(f\"R2_score \\t: {R2_score}\")\n",
    "    print(f\"MAE \\t\\t: {mae}\")\n",
    "    print(f\"MSE \\t\\t: {mse}\")\n",
    "    print(f\"RMSE \\t\\t: {rmse}\")"
   ]
  },
  {
   "cell_type": "code",
   "execution_count": 26,
   "id": "b375234b",
   "metadata": {
    "ExecuteTime": {
     "end_time": "2024-05-21T08:36:07.588353Z",
     "start_time": "2024-05-21T08:36:07.577168Z"
    }
   },
   "outputs": [
    {
     "name": "stdout",
     "output_type": "stream",
     "text": [
      "Model testing performance:\n",
      "--------------------------\n",
      "R2_score \t: 0.9167445068610212\n",
      "MAE \t\t: 6.243844051928895\n",
      "MSE \t\t: 132.2349846382121\n",
      "RMSE \t\t: 11.499347139651542\n"
     ]
    }
   ],
   "source": [
    "y_test_pred = model_poly.predict(X_test)\n",
    "\n",
    "eval_metric(y_test, y_test_pred) # Test kisminin degerleri"
   ]
  },
  {
   "cell_type": "code",
   "execution_count": 27,
   "id": "f54b30c0",
   "metadata": {
    "ExecuteTime": {
     "end_time": "2024-05-21T08:36:07.603487Z",
     "start_time": "2024-05-21T08:36:07.590139Z"
    }
   },
   "outputs": [
    {
     "name": "stdout",
     "output_type": "stream",
     "text": [
      "Model testing performance:\n",
      "--------------------------\n",
      "R2_score \t: 0.9254006349497783\n",
      "MAE \t\t: 5.739226516885687\n",
      "MSE \t\t: 201.12475625412154\n",
      "RMSE \t\t: 14.181846010097612\n"
     ]
    }
   ],
   "source": [
    "y_train_pred = model_poly.predict(X_train)\n",
    "\n",
    "eval_metric(y_train, y_train_pred)"
   ]
  },
  {
   "cell_type": "markdown",
   "id": "7c9eb338",
   "metadata": {},
   "source": [
    "# Adjusted R2 Score"
   ]
  },
  {
   "cell_type": "code",
   "execution_count": 28,
   "id": "df5e47fa",
   "metadata": {
    "ExecuteTime": {
     "end_time": "2024-05-21T08:36:07.618560Z",
     "start_time": "2024-05-21T08:36:07.608596Z"
    }
   },
   "outputs": [],
   "source": [
    "def adj_r2(y_test, y_pred, df):\n",
    "    r2 = r2_score(y_test, y_pred)    # R2 score\n",
    "    n = df.shape[0]         # number of observations - gözlem\n",
    "    p = df.shape[1] - 1     # number of indep. variable = feature\n",
    "    adj_r2 = 1 - (1-r2) * (n-1)/(n-p-1)\n",
    "    return adj_r2"
   ]
  },
  {
   "cell_type": "code",
   "execution_count": 29,
   "id": "5d4d3721",
   "metadata": {
    "ExecuteTime": {
     "end_time": "2024-05-21T08:36:07.633802Z",
     "start_time": "2024-05-21T08:36:07.620849Z"
    }
   },
   "outputs": [
    {
     "data": {
      "text/plain": [
       "0.9146160478427189"
      ]
     },
     "execution_count": 29,
     "metadata": {},
     "output_type": "execute_result"
    }
   ],
   "source": [
    "adj_r2(y_test, y_pred, df_encoded)"
   ]
  },
  {
   "cell_type": "markdown",
   "id": "ed378d43",
   "metadata": {},
   "source": [
    "# Coef, Feature Imp."
   ]
  },
  {
   "cell_type": "code",
   "execution_count": 30,
   "id": "5edf213d",
   "metadata": {
    "ExecuteTime": {
     "end_time": "2024-05-21T08:36:07.655290Z",
     "start_time": "2024-05-21T08:36:07.636879Z"
    }
   },
   "outputs": [
    {
     "data": {
      "text/plain": [
       "array([[-3.24779626e-01, -3.69954739e-01,  8.31864401e-01,\n",
       "         1.91961368e-01, -1.23726409e+00, -1.54553081e+00,\n",
       "         4.80727136e-02,  2.55501085e-01,  7.91161809e-01,\n",
       "         8.31291481e+00,  2.73755415e+01,  3.85065008e+00,\n",
       "         3.29863255e-01,  2.69610190e+00, -8.47767111e-01,\n",
       "        -1.63829296e+00,  1.03882549e+00,  4.70811098e-01,\n",
       "         8.31291481e+00, -1.95063715e-02, -2.86763877e-01,\n",
       "        -3.47788203e-01,  5.19790995e-01, -2.08224003e-01,\n",
       "        -1.20544611e-01,  3.68455995e-01]])"
      ]
     },
     "execution_count": 30,
     "metadata": {},
     "output_type": "execute_result"
    }
   ],
   "source": [
    "model_poly.coef_"
   ]
  },
  {
   "cell_type": "code",
   "execution_count": 31,
   "id": "a0681bfb",
   "metadata": {
    "ExecuteTime": {
     "end_time": "2024-05-21T08:36:07.669091Z",
     "start_time": "2024-05-21T08:36:07.657139Z"
    },
    "scrolled": false
   },
   "outputs": [
    {
     "data": {
      "text/html": [
       "<div>\n",
       "<style scoped>\n",
       "    .dataframe tbody tr th:only-of-type {\n",
       "        vertical-align: middle;\n",
       "    }\n",
       "\n",
       "    .dataframe tbody tr th {\n",
       "        vertical-align: top;\n",
       "    }\n",
       "\n",
       "    .dataframe thead th {\n",
       "        text-align: right;\n",
       "    }\n",
       "</style>\n",
       "<table border=\"1\" class=\"dataframe\">\n",
       "  <thead>\n",
       "    <tr style=\"text-align: right;\">\n",
       "      <th></th>\n",
       "      <th>Coefficient</th>\n",
       "    </tr>\n",
       "  </thead>\n",
       "  <tbody>\n",
       "    <tr>\n",
       "      <th>Product_Name</th>\n",
       "      <td>-0.324780</td>\n",
       "    </tr>\n",
       "    <tr>\n",
       "      <th>Product_Category</th>\n",
       "      <td>-0.369955</td>\n",
       "    </tr>\n",
       "    <tr>\n",
       "      <th>Comparison_Price_Type</th>\n",
       "      <td>0.831864</td>\n",
       "    </tr>\n",
       "    <tr>\n",
       "      <th>Buy_Box_Eligible</th>\n",
       "      <td>0.191961</td>\n",
       "    </tr>\n",
       "    <tr>\n",
       "      <th>Ship_Methods</th>\n",
       "      <td>-1.237264</td>\n",
       "    </tr>\n",
       "    <tr>\n",
       "      <th>Fulfillment_Type</th>\n",
       "      <td>-1.545531</td>\n",
       "    </tr>\n",
       "    <tr>\n",
       "      <th>WFS_Sales_Restriction</th>\n",
       "      <td>0.048073</td>\n",
       "    </tr>\n",
       "    <tr>\n",
       "      <th>Shelf_Name</th>\n",
       "      <td>0.255501</td>\n",
       "    </tr>\n",
       "    <tr>\n",
       "      <th>Brand</th>\n",
       "      <td>0.791162</td>\n",
       "    </tr>\n",
       "    <tr>\n",
       "      <th>Price</th>\n",
       "      <td>8.312915</td>\n",
       "    </tr>\n",
       "    <tr>\n",
       "      <th>Comparison_Price</th>\n",
       "      <td>27.375542</td>\n",
       "    </tr>\n",
       "    <tr>\n",
       "      <th>MSRP</th>\n",
       "      <td>3.850650</td>\n",
       "    </tr>\n",
       "    <tr>\n",
       "      <th>Product_Tax_Code</th>\n",
       "      <td>0.329863</td>\n",
       "    </tr>\n",
       "    <tr>\n",
       "      <th>Shipping_Weight</th>\n",
       "      <td>2.696102</td>\n",
       "    </tr>\n",
       "    <tr>\n",
       "      <th>Reviews_Count</th>\n",
       "      <td>-0.847767</td>\n",
       "    </tr>\n",
       "    <tr>\n",
       "      <th>Average_Rating</th>\n",
       "      <td>-1.638293</td>\n",
       "    </tr>\n",
       "    <tr>\n",
       "      <th>Competitor_Price</th>\n",
       "      <td>1.038825</td>\n",
       "    </tr>\n",
       "    <tr>\n",
       "      <th>Competitor_Ship_Price</th>\n",
       "      <td>0.470811</td>\n",
       "    </tr>\n",
       "    <tr>\n",
       "      <th>Cost</th>\n",
       "      <td>8.312915</td>\n",
       "    </tr>\n",
       "    <tr>\n",
       "      <th>start_day</th>\n",
       "      <td>-0.019506</td>\n",
       "    </tr>\n",
       "    <tr>\n",
       "      <th>start_month</th>\n",
       "      <td>-0.286764</td>\n",
       "    </tr>\n",
       "    <tr>\n",
       "      <th>start_year</th>\n",
       "      <td>-0.347788</td>\n",
       "    </tr>\n",
       "    <tr>\n",
       "      <th>end_day</th>\n",
       "      <td>0.519791</td>\n",
       "    </tr>\n",
       "    <tr>\n",
       "      <th>end_month</th>\n",
       "      <td>-0.208224</td>\n",
       "    </tr>\n",
       "    <tr>\n",
       "      <th>end_year</th>\n",
       "      <td>-0.120545</td>\n",
       "    </tr>\n",
       "    <tr>\n",
       "      <th>is_quarter_end</th>\n",
       "      <td>0.368456</td>\n",
       "    </tr>\n",
       "  </tbody>\n",
       "</table>\n",
       "</div>"
      ],
      "text/plain": [
       "                       Coefficient\n",
       "Product_Name             -0.324780\n",
       "Product_Category         -0.369955\n",
       "Comparison_Price_Type     0.831864\n",
       "Buy_Box_Eligible          0.191961\n",
       "Ship_Methods             -1.237264\n",
       "Fulfillment_Type         -1.545531\n",
       "WFS_Sales_Restriction     0.048073\n",
       "Shelf_Name                0.255501\n",
       "Brand                     0.791162\n",
       "Price                     8.312915\n",
       "Comparison_Price         27.375542\n",
       "MSRP                      3.850650\n",
       "Product_Tax_Code          0.329863\n",
       "Shipping_Weight           2.696102\n",
       "Reviews_Count            -0.847767\n",
       "Average_Rating           -1.638293\n",
       "Competitor_Price          1.038825\n",
       "Competitor_Ship_Price     0.470811\n",
       "Cost                      8.312915\n",
       "start_day                -0.019506\n",
       "start_month              -0.286764\n",
       "start_year               -0.347788\n",
       "end_day                   0.519791\n",
       "end_month                -0.208224\n",
       "end_year                 -0.120545\n",
       "is_quarter_end            0.368456"
      ]
     },
     "execution_count": 31,
     "metadata": {},
     "output_type": "execute_result"
    }
   ],
   "source": [
    "# 'Buy_Box_Item_Price' sütununu bırakarak katsayıları bir DataFrame'e dönüştürün\n",
    "coeff_df = pd.DataFrame(model_poly.coef_.reshape(-1, 1), index=df_encoded.drop(['Buy_Box_Item_Price'], axis=1).columns, columns=[\"Coefficient\"])\n",
    "coeff_df"
   ]
  },
  {
   "cell_type": "markdown",
   "id": "1c6d63eb",
   "metadata": {},
   "source": [
    "# yeni model"
   ]
  },
  {
   "cell_type": "code",
   "execution_count": 32,
   "id": "99fa8663",
   "metadata": {
    "ExecuteTime": {
     "end_time": "2024-05-21T08:36:07.684958Z",
     "start_time": "2024-05-21T08:36:07.670417Z"
    }
   },
   "outputs": [
    {
     "data": {
      "text/html": [
       "<div>\n",
       "<style scoped>\n",
       "    .dataframe tbody tr th:only-of-type {\n",
       "        vertical-align: middle;\n",
       "    }\n",
       "\n",
       "    .dataframe tbody tr th {\n",
       "        vertical-align: top;\n",
       "    }\n",
       "\n",
       "    .dataframe thead th {\n",
       "        text-align: right;\n",
       "    }\n",
       "</style>\n",
       "<table border=\"1\" class=\"dataframe\">\n",
       "  <thead>\n",
       "    <tr style=\"text-align: right;\">\n",
       "      <th></th>\n",
       "      <th>Price</th>\n",
       "      <th>Comparison_Price</th>\n",
       "      <th>MSRP</th>\n",
       "      <th>Shipping_Weight</th>\n",
       "      <th>Average_Rating</th>\n",
       "      <th>Buy_Box_Item_Price</th>\n",
       "    </tr>\n",
       "  </thead>\n",
       "  <tbody>\n",
       "    <tr>\n",
       "      <th>908</th>\n",
       "      <td>33.99</td>\n",
       "      <td>56.90</td>\n",
       "      <td>72.99</td>\n",
       "      <td>2.68</td>\n",
       "      <td>2.8</td>\n",
       "      <td>54.90</td>\n",
       "    </tr>\n",
       "    <tr>\n",
       "      <th>696</th>\n",
       "      <td>7.40</td>\n",
       "      <td>6.44</td>\n",
       "      <td>10.99</td>\n",
       "      <td>2.00</td>\n",
       "      <td>4.5</td>\n",
       "      <td>6.39</td>\n",
       "    </tr>\n",
       "    <tr>\n",
       "      <th>578</th>\n",
       "      <td>32.90</td>\n",
       "      <td>36.90</td>\n",
       "      <td>46.42</td>\n",
       "      <td>1.00</td>\n",
       "      <td>4.9</td>\n",
       "      <td>37.99</td>\n",
       "    </tr>\n",
       "  </tbody>\n",
       "</table>\n",
       "</div>"
      ],
      "text/plain": [
       "     Price  Comparison_Price   MSRP  Shipping_Weight  Average_Rating  \\\n",
       "908  33.99             56.90  72.99             2.68             2.8   \n",
       "696   7.40              6.44  10.99             2.00             4.5   \n",
       "578  32.90             36.90  46.42             1.00             4.9   \n",
       "\n",
       "     Buy_Box_Item_Price  \n",
       "908               54.90  \n",
       "696                6.39  \n",
       "578               37.99  "
      ]
     },
     "execution_count": 32,
     "metadata": {},
     "output_type": "execute_result"
    }
   ],
   "source": [
    "df_fin = df_encoded[[\"Price\",\"Comparison_Price\",\"MSRP\",\"Shipping_Weight\",\n",
    "                     \"Average_Rating\",\"Buy_Box_Item_Price\"]]\n",
    "df_fin.sample(3)"
   ]
  },
  {
   "cell_type": "code",
   "execution_count": 33,
   "id": "8d1ea6b2",
   "metadata": {
    "ExecuteTime": {
     "end_time": "2024-05-21T08:36:07.701107Z",
     "start_time": "2024-05-21T08:36:07.687024Z"
    }
   },
   "outputs": [
    {
     "name": "stdout",
     "output_type": "stream",
     "text": [
      "(939, 5) (105, 5)\n"
     ]
    }
   ],
   "source": [
    "X = df_fin.drop(['Buy_Box_Item_Price'], axis=1)\n",
    "y = df_fin['Buy_Box_Item_Price']\n",
    "\n",
    "scaler = StandardScaler()\n",
    "X = scaler.fit_transform(X)\n",
    "\n",
    "y = pd.DataFrame(y)\n",
    "y = y.values.reshape(-1, 1)\n",
    "\n",
    "X_train, X_test, y_train, y_test = train_test_split(X, y, test_size=0.1, random_state=42)\n",
    "print(X_train.shape, X_test.shape)"
   ]
  },
  {
   "cell_type": "code",
   "execution_count": 34,
   "id": "15342db1",
   "metadata": {
    "ExecuteTime": {
     "end_time": "2024-05-21T08:36:07.719697Z",
     "start_time": "2024-05-21T08:36:07.704152Z"
    }
   },
   "outputs": [
    {
     "data": {
      "text/html": [
       "<div>\n",
       "<style scoped>\n",
       "    .dataframe tbody tr th:only-of-type {\n",
       "        vertical-align: middle;\n",
       "    }\n",
       "\n",
       "    .dataframe tbody tr th {\n",
       "        vertical-align: top;\n",
       "    }\n",
       "\n",
       "    .dataframe thead th {\n",
       "        text-align: right;\n",
       "    }\n",
       "</style>\n",
       "<table border=\"1\" class=\"dataframe\">\n",
       "  <thead>\n",
       "    <tr style=\"text-align: right;\">\n",
       "      <th></th>\n",
       "      <th>Actual</th>\n",
       "      <th>pred</th>\n",
       "      <th>residual</th>\n",
       "    </tr>\n",
       "  </thead>\n",
       "  <tbody>\n",
       "    <tr>\n",
       "      <th>0</th>\n",
       "      <td>21.49</td>\n",
       "      <td>22.771399</td>\n",
       "      <td>-1.281399</td>\n",
       "    </tr>\n",
       "    <tr>\n",
       "      <th>1</th>\n",
       "      <td>30.88</td>\n",
       "      <td>28.928753</td>\n",
       "      <td>1.951247</td>\n",
       "    </tr>\n",
       "    <tr>\n",
       "      <th>2</th>\n",
       "      <td>24.99</td>\n",
       "      <td>29.209486</td>\n",
       "      <td>-4.219486</td>\n",
       "    </tr>\n",
       "    <tr>\n",
       "      <th>3</th>\n",
       "      <td>17.81</td>\n",
       "      <td>21.640445</td>\n",
       "      <td>-3.830445</td>\n",
       "    </tr>\n",
       "    <tr>\n",
       "      <th>4</th>\n",
       "      <td>28.98</td>\n",
       "      <td>36.772468</td>\n",
       "      <td>-7.792468</td>\n",
       "    </tr>\n",
       "    <tr>\n",
       "      <th>...</th>\n",
       "      <td>...</td>\n",
       "      <td>...</td>\n",
       "      <td>...</td>\n",
       "    </tr>\n",
       "    <tr>\n",
       "      <th>100</th>\n",
       "      <td>21.41</td>\n",
       "      <td>24.553564</td>\n",
       "      <td>-3.143564</td>\n",
       "    </tr>\n",
       "    <tr>\n",
       "      <th>101</th>\n",
       "      <td>264.98</td>\n",
       "      <td>239.667003</td>\n",
       "      <td>25.312997</td>\n",
       "    </tr>\n",
       "    <tr>\n",
       "      <th>102</th>\n",
       "      <td>156.99</td>\n",
       "      <td>139.948804</td>\n",
       "      <td>17.041196</td>\n",
       "    </tr>\n",
       "    <tr>\n",
       "      <th>103</th>\n",
       "      <td>34.99</td>\n",
       "      <td>56.503018</td>\n",
       "      <td>-21.513018</td>\n",
       "    </tr>\n",
       "    <tr>\n",
       "      <th>104</th>\n",
       "      <td>38.00</td>\n",
       "      <td>31.380023</td>\n",
       "      <td>6.619977</td>\n",
       "    </tr>\n",
       "  </tbody>\n",
       "</table>\n",
       "<p>105 rows × 3 columns</p>\n",
       "</div>"
      ],
      "text/plain": [
       "     Actual        pred   residual\n",
       "0     21.49   22.771399  -1.281399\n",
       "1     30.88   28.928753   1.951247\n",
       "2     24.99   29.209486  -4.219486\n",
       "3     17.81   21.640445  -3.830445\n",
       "4     28.98   36.772468  -7.792468\n",
       "..      ...         ...        ...\n",
       "100   21.41   24.553564  -3.143564\n",
       "101  264.98  239.667003  25.312997\n",
       "102  156.99  139.948804  17.041196\n",
       "103   34.99   56.503018 -21.513018\n",
       "104   38.00   31.380023   6.619977\n",
       "\n",
       "[105 rows x 3 columns]"
      ]
     },
     "execution_count": 34,
     "metadata": {},
     "output_type": "execute_result"
    }
   ],
   "source": [
    "final_model = LinearRegression()\n",
    "\n",
    "final_model.fit(X_train, y_train)\n",
    "\n",
    "y_pred = final_model.predict(X_test)\n",
    "\n",
    "# Sütun vektörlerine dönüştürme\n",
    "y_test = y_test.reshape(-1, 1)\n",
    "y_pred = y_pred.reshape(-1, 1)\n",
    "\n",
    "my_dict = {\"Actual\": y_test.flatten(), \"pred\": y_pred.flatten(), \"residual\": y_test.flatten() - y_pred.flatten()}\n",
    "compare2 = pd.DataFrame(my_dict)\n",
    "compare2"
   ]
  },
  {
   "cell_type": "code",
   "execution_count": 35,
   "id": "43ebe8a7",
   "metadata": {
    "ExecuteTime": {
     "end_time": "2024-05-21T08:36:07.996135Z",
     "start_time": "2024-05-21T08:36:07.722024Z"
    }
   },
   "outputs": [
    {
     "data": {
      "image/png": "[encoded data removed]",
      "text/plain": [
       "<Figure size 1500x900 with 1 Axes>"
      ]
     },
     "metadata": {},
     "output_type": "display_data"
    }
   ],
   "source": [
    "compare2.sample(20).plot(kind=\"bar\", figsize=(15,9));"
   ]
  },
  {
   "cell_type": "code",
   "execution_count": 36,
   "id": "77806d32",
   "metadata": {
    "ExecuteTime": {
     "end_time": "2024-05-21T08:36:08.011410Z",
     "start_time": "2024-05-21T08:36:07.998683Z"
    }
   },
   "outputs": [
    {
     "name": "stdout",
     "output_type": "stream",
     "text": [
      "Model testing performance:\n",
      "--------------------------\n",
      "R2_score \t: 0.9166663375407977\n",
      "MAE \t\t: 6.091128460526569\n",
      "MSE \t\t: 132.3591412370046\n",
      "RMSE \t\t: 11.50474429255186\n"
     ]
    }
   ],
   "source": [
    "y_test_pred = final_model.predict(X_test)\n",
    "\n",
    "eval_metric(y_test, y_test_pred) # Test kisminin degerleri"
   ]
  },
  {
   "cell_type": "code",
   "execution_count": 37,
   "id": "9260c667",
   "metadata": {
    "ExecuteTime": {
     "end_time": "2024-05-21T08:36:08.020699Z",
     "start_time": "2024-05-21T08:36:08.014193Z"
    }
   },
   "outputs": [
    {
     "name": "stdout",
     "output_type": "stream",
     "text": [
      "Model testing performance:\n",
      "--------------------------\n",
      "R2_score \t: 0.9240423172190577\n",
      "MAE \t\t: 5.9188007355261245\n",
      "MSE \t\t: 204.7868694949367\n",
      "RMSE \t\t: 14.310376287677997\n"
     ]
    }
   ],
   "source": [
    "y_train_pred = final_model.predict(X_train)\n",
    "\n",
    "eval_metric(y_train, y_train_pred)"
   ]
  },
  {
   "cell_type": "code",
   "execution_count": 38,
   "id": "f2f83de6",
   "metadata": {
    "ExecuteTime": {
     "end_time": "2024-05-21T08:36:08.039618Z",
     "start_time": "2024-05-21T08:36:08.021957Z"
    }
   },
   "outputs": [
    {
     "data": {
      "text/plain": [
       "0.9145358800934632"
      ]
     },
     "execution_count": 38,
     "metadata": {},
     "output_type": "execute_result"
    }
   ],
   "source": [
    "adj_r2(y_test, y_pred, df_encoded)  # Adj R2 Score"
   ]
  },
  {
   "cell_type": "code",
   "execution_count": 39,
   "id": "941c57b6",
   "metadata": {
    "ExecuteTime": {
     "end_time": "2024-05-21T08:36:08.054676Z",
     "start_time": "2024-05-21T08:36:08.042597Z"
    }
   },
   "outputs": [
    {
     "data": {
      "text/plain": [
       "array([[17.50529962, 27.16628731,  4.01496116,  2.75524293, -1.60713476]])"
      ]
     },
     "execution_count": 39,
     "metadata": {},
     "output_type": "execute_result"
    }
   ],
   "source": [
    "final_model.coef_"
   ]
  },
  {
   "cell_type": "code",
   "execution_count": 40,
   "id": "e966f32f",
   "metadata": {
    "ExecuteTime": {
     "end_time": "2024-05-21T08:36:08.072516Z",
     "start_time": "2024-05-21T08:36:08.058368Z"
    },
    "scrolled": true
   },
   "outputs": [
    {
     "data": {
      "text/html": [
       "<div>\n",
       "<style scoped>\n",
       "    .dataframe tbody tr th:only-of-type {\n",
       "        vertical-align: middle;\n",
       "    }\n",
       "\n",
       "    .dataframe tbody tr th {\n",
       "        vertical-align: top;\n",
       "    }\n",
       "\n",
       "    .dataframe thead th {\n",
       "        text-align: right;\n",
       "    }\n",
       "</style>\n",
       "<table border=\"1\" class=\"dataframe\">\n",
       "  <thead>\n",
       "    <tr style=\"text-align: right;\">\n",
       "      <th></th>\n",
       "      <th>Coefficient</th>\n",
       "    </tr>\n",
       "  </thead>\n",
       "  <tbody>\n",
       "    <tr>\n",
       "      <th>Price</th>\n",
       "      <td>17.505300</td>\n",
       "    </tr>\n",
       "    <tr>\n",
       "      <th>Comparison_Price</th>\n",
       "      <td>27.166287</td>\n",
       "    </tr>\n",
       "    <tr>\n",
       "      <th>MSRP</th>\n",
       "      <td>4.014961</td>\n",
       "    </tr>\n",
       "    <tr>\n",
       "      <th>Shipping_Weight</th>\n",
       "      <td>2.755243</td>\n",
       "    </tr>\n",
       "    <tr>\n",
       "      <th>Average_Rating</th>\n",
       "      <td>-1.607135</td>\n",
       "    </tr>\n",
       "  </tbody>\n",
       "</table>\n",
       "</div>"
      ],
      "text/plain": [
       "                  Coefficient\n",
       "Price               17.505300\n",
       "Comparison_Price    27.166287\n",
       "MSRP                 4.014961\n",
       "Shipping_Weight      2.755243\n",
       "Average_Rating      -1.607135"
      ]
     },
     "execution_count": 40,
     "metadata": {},
     "output_type": "execute_result"
    }
   ],
   "source": [
    "coeff_df = pd.DataFrame(final_model.coef_.reshape(-1, 1), index=df_fin.drop(['Buy_Box_Item_Price'], axis=1).columns, columns=[\"Coefficient\"])\n",
    "coeff_df"
   ]
  },
  {
   "cell_type": "markdown",
   "id": "957c3291",
   "metadata": {},
   "source": [
    "# Model Deployment"
   ]
  },
  {
   "cell_type": "code",
   "execution_count": 65,
   "id": "e4acc9f6",
   "metadata": {},
   "outputs": [
    {
     "data": {
      "text/plain": [
       "['BuyBoxPriceScaler.pkl']"
      ]
     },
     "execution_count": 65,
     "metadata": {},
     "output_type": "execute_result"
    }
   ],
   "source": [
    "import joblib\n",
    "\n",
    "# Pipeline'i kaydetme\n",
    "joblib.dump(final_model, 'BuyBoxPrice_model.pkl')\n",
    "joblib.dump(scaler, 'BuyBoxPriceScaler.pkl')"
   ]
  },
  {
   "cell_type": "markdown",
   "id": "bada98b6",
   "metadata": {},
   "source": [
    "# Prediction"
   ]
  },
  {
   "cell_type": "code",
   "execution_count": 66,
   "id": "194a9c41",
   "metadata": {},
   "outputs": [],
   "source": [
    "loaded_model = joblib.load('BuyBoxPrice_model.pkl')\n",
    "loaded_scaler = joblib.load('BuyBoxPriceScaler.pkl')\n",
    "#scaler = StandardScaler()"
   ]
  },
  {
   "cell_type": "code",
   "execution_count": 57,
   "id": "a2bd657d",
   "metadata": {
    "ExecuteTime": {
     "end_time": "2024-05-21T08:36:08.088631Z",
     "start_time": "2024-05-21T08:36:08.074606Z"
    }
   },
   "outputs": [
    {
     "data": {
      "text/plain": [
       "[[148.99, 149, 249.99, 5, 4.9],\n",
       " [19.95, 29.5, 39.99, 1.21, 4.8],\n",
       " [17.2, 22.95, 22.5, 1, 4.8],\n",
       " [39.99, 30.98, 48.99, 3, 3.5]]"
      ]
     },
     "execution_count": 57,
     "metadata": {},
     "output_type": "execute_result"
    }
   ],
   "source": [
    "# ornek feture degerleri, urun icin degerler verildiginde model bir buybox fiyati belirleyecek.\n",
    "# Listedeki urunler Item ID = 14227376, 905481374, 149886943, 545354261\n",
    "\n",
    "urunler = [[148.99, 149, 249.99, 5, 4.9],\n",
    "           [19.95, 29.5, 39.99, 1.21, 4.8],\n",
    "           [17.2, 22.95, 22.5, 1, 4.8],\n",
    "           [39.99, 30.98, 48.99, 3, 3.5]]\n",
    "urunler"
   ]
  },
  {
   "cell_type": "code",
   "execution_count": 67,
   "id": "193823c0",
   "metadata": {
    "ExecuteTime": {
     "end_time": "2024-05-21T08:36:08.103863Z",
     "start_time": "2024-05-21T08:36:08.090728Z"
    }
   },
   "outputs": [
    {
     "data": {
      "text/plain": [
       "array([[ 1.70900171,  1.72918635,  1.7228739 ,  1.51765072,  0.69109474],\n",
       "       [-0.67619777, -0.54424401, -0.5437459 , -0.8324601 ,  0.51832106],\n",
       "       [-0.72702928, -0.66885462, -0.73252295, -0.96267732,  0.51832106],\n",
       "       [-0.30577466, -0.51608771, -0.44660505,  0.2774867 , -1.72773685]])"
      ]
     },
     "execution_count": 67,
     "metadata": {},
     "output_type": "execute_result"
    }
   ],
   "source": [
    "urunler_scaled = loaded_scaler.fit_transform(urunler)\n",
    "#urunler_scaled = scaler.fit_transform(urunler)\n",
    "#urunler_scaled = scaler.transform(urunler)\n",
    "urunler_scaled"
   ]
  },
  {
   "cell_type": "code",
   "execution_count": 68,
   "id": "f254817d",
   "metadata": {
    "ExecuteTime": {
     "end_time": "2024-05-21T08:36:08.118638Z",
     "start_time": "2024-05-21T08:36:08.103863Z"
    }
   },
   "outputs": [
    {
     "data": {
      "text/plain": [
       "array([[130.31779851],\n",
       "       [ 11.50565872],\n",
       "       [  6.1139174 ],\n",
       "       [ 25.81283563]])"
      ]
     },
     "execution_count": 68,
     "metadata": {},
     "output_type": "execute_result"
    }
   ],
   "source": [
    "final_model.predict(urunler_scaled)"
   ]
  },
  {
   "attachments": {
    "image.png": {
     "image/png": "[encoded data removed]"
    }
   },
   "cell_type": "markdown",
   "id": "68c03138",
   "metadata": {},
   "source": [
    "![image.png](attachment:image.png)"
   ]
  },
  {
   "cell_type": "code",
   "execution_count": null,
   "id": "cd82cd17",
   "metadata": {},
   "outputs": [],
   "source": []
  }
 ],
 "metadata": {
  "hide_input": false,
  "kernelspec": {
   "display_name": "Python (3.10.8)",
   "language": "python",
   "name": "3.10.8"
  },
  "language_info": {
   "codemirror_mode": {
    "name": "ipython",
    "version": 3
   },
   "file_extension": ".py",
   "mimetype": "text/x-python",
   "name": "python",
   "nbconvert_exporter": "python",
   "pygments_lexer": "ipython3",
   "version": "3.10.8"
  },
  "nbTranslate": {
   "displayLangs": [
    "*"
   ],
   "hotkey": "alt-t",
   "langInMainMenu": true,
   "sourceLang": "en",
   "targetLang": "fr",
   "useGoogleTranslate": true
  },
  "toc": {
   "base_numbering": 1,
   "nav_menu": {},
   "number_sections": true,
   "sideBar": true,
   "skip_h1_title": false,
   "title_cell": "Table of Contents",
   "title_sidebar": "Contents",
   "toc_cell": false,
   "toc_position": {},
   "toc_section_display": true,
   "toc_window_display": false
  }
 },
 "nbformat": 4,
 "nbformat_minor": 5
}
