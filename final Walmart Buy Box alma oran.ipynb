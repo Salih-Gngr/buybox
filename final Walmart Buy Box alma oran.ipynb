{
 "cells": [
  {
   "cell_type": "markdown",
   "id": "2c9ada31",
   "metadata": {},
   "source": [
    "<p style=\"background-color:#3ab1c8;font-family:Cursive;font-size:200%;color:black;text-align:center;border-radius:120px 20px;padding:20px;margin:20px;\"><b>Walmart Buy Box alma orani</b></p>\n",
    "\n",
    "<p style=\"font-family:Cursive;font-size:100%;color:black;text-align:center;border-radius:10px 10px;\"><b>by Nash</b></p>\n",
    "\n",
    "<b style=\"font-family:Cursive;font-size:100%;color:black;text-align:right;border-radius:10px 10px;\">Follow me [Linkedin](www.linkedin.com/in/nash-n-sungur-333869289) | [Git Hub](https://api.whatsapp.com/send/?phone=%2B15853042959&text&type=phone_number&app_absent=0)</b>"
   ]
  },
  {
   "cell_type": "markdown",
   "id": "7aacdfb5",
   "metadata": {},
   "source": [
    "Bu notebook ile Ime Brand sirketinin Walmart pazarinda satisa sundugu 1044 ürün ile ilgili bilgilerin bulundugu data setinden elde edilen bilgilerle olusuturulmus bir notebooktur. \n",
    "\n",
    "Bu notebookun amaci Sirketin Walmart pazari icin olusturdugu/tuttugu bazi bilgileri kullanarak, ürünün Boybox alma olasiligini belirleye bilmek.\n",
    "\n",
    "Sunun net olarak bilinmesi gerekiyor ki, datasetinde Buy Box ile ilgili datasetinde yeterli veri olmadigi icin BU SONUCLAR GERCEGI YANSITMAMAKTADIR.  "
   ]
  },
  {
   "cell_type": "code",
   "execution_count": 1,
   "id": "76e056cd",
   "metadata": {
    "ExecuteTime": {
     "end_time": "2024-05-28T18:38:56.240421Z",
     "start_time": "2024-05-28T18:38:53.265218Z"
    }
   },
   "outputs": [
    {
     "name": "stderr",
     "output_type": "stream",
     "text": [
      "C:\\Users\\nsgr6\\AppData\\Roaming\\Python\\Python310\\site-packages\\matplotlib\\projections\\__init__.py:63: UserWarning: Unable to import Axes3D. This may be due to multiple versions of Matplotlib being installed (e.g. as a system package and as a pip package). As a result, the 3D projection is not available.\n",
      "  warnings.warn(\"Unable to import Axes3D. This may be due to multiple versions of \"\n",
      "C:\\Users\\nsgr6\\AppData\\Local\\Programs\\Python\\Python310\\lib\\site-packages\\scipy\\__init__.py:146: UserWarning: A NumPy version >=1.17.3 and <1.25.0 is required for this version of SciPy (detected version 1.26.3\n",
      "  warnings.warn(f\"A NumPy version >={np_minversion} and <{np_maxversion}\"\n"
     ]
    }
   ],
   "source": [
    "import numpy as np\n",
    "import pandas as pd\n",
    "import seaborn as sns\n",
    "\n",
    "from sklearn.preprocessing import OrdinalEncoder, StandardScaler\n",
    "from sklearn.compose import ColumnTransformer\n",
    "from sklearn.pipeline import Pipeline\n",
    "from sklearn.linear_model import LogisticRegression\n",
    "from sklearn.metrics import accuracy_score, f1_score, recall_score, precision_score\n",
    "from sklearn.metrics import classification_report,confusion_matrix,plot_confusion_matrix, average_precision_score\n",
    "\n",
    "import joblib\n",
    "\n",
    "import warnings\n",
    "warnings.filterwarnings('ignore')"
   ]
  },
  {
   "cell_type": "code",
   "execution_count": 2,
   "id": "18495df8",
   "metadata": {
    "ExecuteTime": {
     "end_time": "2024-05-28T18:38:56.318664Z",
     "start_time": "2024-05-28T18:38:56.243721Z"
    },
    "scrolled": true
   },
   "outputs": [
    {
     "data": {
      "text/html": [
       "<div>\n",
       "<style scoped>\n",
       "    .dataframe tbody tr th:only-of-type {\n",
       "        vertical-align: middle;\n",
       "    }\n",
       "\n",
       "    .dataframe tbody tr th {\n",
       "        vertical-align: top;\n",
       "    }\n",
       "\n",
       "    .dataframe thead th {\n",
       "        text-align: right;\n",
       "    }\n",
       "</style>\n",
       "<table border=\"1\" class=\"dataframe\">\n",
       "  <thead>\n",
       "    <tr style=\"text-align: right;\">\n",
       "      <th></th>\n",
       "      <th>Unnamed: 0</th>\n",
       "      <th>SKU</th>\n",
       "      <th>Product_Name</th>\n",
       "      <th>Product_Category</th>\n",
       "      <th>Price</th>\n",
       "      <th>Promo_Start_Date</th>\n",
       "      <th>Promo_End_Date</th>\n",
       "      <th>Comparison_Price</th>\n",
       "      <th>Comparison_Price_Type</th>\n",
       "      <th>Buy_Box_Item_Price</th>\n",
       "      <th>...</th>\n",
       "      <th>Primary_Category_Path</th>\n",
       "      <th>Brand</th>\n",
       "      <th>Offer_Start_Date</th>\n",
       "      <th>Offer_End_Date</th>\n",
       "      <th>Item_Creation_Date</th>\n",
       "      <th>Reviews_Count</th>\n",
       "      <th>Average_Rating</th>\n",
       "      <th>Competitor_Price</th>\n",
       "      <th>Competitor_Ship_Price</th>\n",
       "      <th>Cost</th>\n",
       "    </tr>\n",
       "  </thead>\n",
       "  <tbody>\n",
       "    <tr>\n",
       "      <th>312</th>\n",
       "      <td>312</td>\n",
       "      <td>0850040682281-bstock-6.6</td>\n",
       "      <td>Australian Botanical Soap, Goats Milk with She...</td>\n",
       "      <td>Beauty, Personal Care, &amp; Hygiene</td>\n",
       "      <td>37.95</td>\n",
       "      <td>1970-01-01</td>\n",
       "      <td>1970-01-01</td>\n",
       "      <td>37.99</td>\n",
       "      <td>Was Price</td>\n",
       "      <td>37.99</td>\n",
       "      <td>...</td>\n",
       "      <td>[\"Home Page\",\"Personal Care\",\"Bath &amp; Body\",\"Ba...</td>\n",
       "      <td>Australian Botanical Soap</td>\n",
       "      <td>2023-11-27</td>\n",
       "      <td>2049-12-31</td>\n",
       "      <td>2023-10-06</td>\n",
       "      <td>4</td>\n",
       "      <td>5.0</td>\n",
       "      <td>23.0</td>\n",
       "      <td>0.0</td>\n",
       "      <td>15.18</td>\n",
       "    </tr>\n",
       "    <tr>\n",
       "      <th>392</th>\n",
       "      <td>392</td>\n",
       "      <td>080958409278-C-P-L2-91.98</td>\n",
       "      <td>EasyGo Product 5 Position Classic Lay Flat  In...</td>\n",
       "      <td>Garden &amp; Patio</td>\n",
       "      <td>165.15</td>\n",
       "      <td>1970-01-01</td>\n",
       "      <td>1970-01-01</td>\n",
       "      <td>124.99</td>\n",
       "      <td>Was Price</td>\n",
       "      <td>165.15</td>\n",
       "      <td>...</td>\n",
       "      <td>[\"Home Page\",\"Patio &amp; Garden\",\"Patio Furniture...</td>\n",
       "      <td>EasyGo Products</td>\n",
       "      <td>2022-09-18</td>\n",
       "      <td>2049-12-31</td>\n",
       "      <td>2022-05-31</td>\n",
       "      <td>2</td>\n",
       "      <td>4.0</td>\n",
       "      <td>0.0</td>\n",
       "      <td>0.0</td>\n",
       "      <td>66.06</td>\n",
       "    </tr>\n",
       "  </tbody>\n",
       "</table>\n",
       "<p>2 rows × 28 columns</p>\n",
       "</div>"
      ],
      "text/plain": [
       "     Unnamed: 0                        SKU  \\\n",
       "312         312   0850040682281-bstock-6.6   \n",
       "392         392  080958409278-C-P-L2-91.98   \n",
       "\n",
       "                                          Product_Name  \\\n",
       "312  Australian Botanical Soap, Goats Milk with She...   \n",
       "392  EasyGo Product 5 Position Classic Lay Flat  In...   \n",
       "\n",
       "                     Product_Category   Price Promo_Start_Date Promo_End_Date  \\\n",
       "312  Beauty, Personal Care, & Hygiene   37.95       1970-01-01     1970-01-01   \n",
       "392                    Garden & Patio  165.15       1970-01-01     1970-01-01   \n",
       "\n",
       "     Comparison_Price Comparison_Price_Type  Buy_Box_Item_Price  ...  \\\n",
       "312             37.99             Was Price               37.99  ...   \n",
       "392            124.99             Was Price              165.15  ...   \n",
       "\n",
       "                                 Primary_Category_Path  \\\n",
       "312  [\"Home Page\",\"Personal Care\",\"Bath & Body\",\"Ba...   \n",
       "392  [\"Home Page\",\"Patio & Garden\",\"Patio Furniture...   \n",
       "\n",
       "                         Brand  Offer_Start_Date Offer_End_Date  \\\n",
       "312  Australian Botanical Soap        2023-11-27     2049-12-31   \n",
       "392            EasyGo Products        2022-09-18     2049-12-31   \n",
       "\n",
       "     Item_Creation_Date Reviews_Count Average_Rating Competitor_Price  \\\n",
       "312          2023-10-06             4            5.0             23.0   \n",
       "392          2022-05-31             2            4.0              0.0   \n",
       "\n",
       "    Competitor_Ship_Price   Cost  \n",
       "312                   0.0  15.18  \n",
       "392                   0.0  66.06  \n",
       "\n",
       "[2 rows x 28 columns]"
      ]
     },
     "execution_count": 2,
     "metadata": {},
     "output_type": "execute_result"
    }
   ],
   "source": [
    "df = pd.read_csv('Walmart_item_analyse.csv')\n",
    "df.sample(2)"
   ]
  },
  {
   "cell_type": "code",
   "execution_count": 3,
   "id": "f302d1cb",
   "metadata": {
    "ExecuteTime": {
     "end_time": "2024-05-28T18:38:56.350526Z",
     "start_time": "2024-05-28T18:38:56.322178Z"
    }
   },
   "outputs": [
    {
     "data": {
      "text/html": [
       "<div>\n",
       "<style scoped>\n",
       "    .dataframe tbody tr th:only-of-type {\n",
       "        vertical-align: middle;\n",
       "    }\n",
       "\n",
       "    .dataframe tbody tr th {\n",
       "        vertical-align: top;\n",
       "    }\n",
       "\n",
       "    .dataframe thead th {\n",
       "        text-align: right;\n",
       "    }\n",
       "</style>\n",
       "<table border=\"1\" class=\"dataframe\">\n",
       "  <thead>\n",
       "    <tr style=\"text-align: right;\">\n",
       "      <th></th>\n",
       "      <th>Unnamed: 0</th>\n",
       "      <th>SKU</th>\n",
       "      <th>Product_Name</th>\n",
       "      <th>Product_Category</th>\n",
       "      <th>Price</th>\n",
       "      <th>Promo_Start_Date</th>\n",
       "      <th>Promo_End_Date</th>\n",
       "      <th>Comparison_Price</th>\n",
       "      <th>Comparison_Price_Type</th>\n",
       "      <th>Buy_Box_Item_Price</th>\n",
       "      <th>...</th>\n",
       "      <th>Brand</th>\n",
       "      <th>Offer_Start_Date</th>\n",
       "      <th>Offer_End_Date</th>\n",
       "      <th>Item_Creation_Date</th>\n",
       "      <th>Reviews_Count</th>\n",
       "      <th>Average_Rating</th>\n",
       "      <th>Competitor_Price</th>\n",
       "      <th>Competitor_Ship_Price</th>\n",
       "      <th>Cost</th>\n",
       "      <th>Buy_Box_Rate</th>\n",
       "    </tr>\n",
       "  </thead>\n",
       "  <tbody>\n",
       "    <tr>\n",
       "      <th>157</th>\n",
       "      <td>157</td>\n",
       "      <td>188781000966-WM-BS-34.58</td>\n",
       "      <td>Zerowater 5-Stage Water Filter Replacement - 6...</td>\n",
       "      <td>Home Decor, Kitchen, &amp; Other</td>\n",
       "      <td>71.25</td>\n",
       "      <td>1970-01-01</td>\n",
       "      <td>1970-01-01</td>\n",
       "      <td>91.99</td>\n",
       "      <td>List Price</td>\n",
       "      <td>70.31</td>\n",
       "      <td>...</td>\n",
       "      <td>ZeroWater</td>\n",
       "      <td>2024-02-23</td>\n",
       "      <td>2049-12-31</td>\n",
       "      <td>2019-07-10</td>\n",
       "      <td>2325</td>\n",
       "      <td>4.5</td>\n",
       "      <td>70.31</td>\n",
       "      <td>0.0</td>\n",
       "      <td>28.500</td>\n",
       "      <td>0</td>\n",
       "    </tr>\n",
       "    <tr>\n",
       "      <th>531</th>\n",
       "      <td>531</td>\n",
       "      <td>073149108395-W-F-L1-6.74</td>\n",
       "      <td>Sterilite 10839006 3 Gallon Round Swing Top Pl...</td>\n",
       "      <td>Home Decor, Kitchen, &amp; Other</td>\n",
       "      <td>40.99</td>\n",
       "      <td>1970-01-01</td>\n",
       "      <td>1970-01-01</td>\n",
       "      <td>43.29</td>\n",
       "      <td>Was Price</td>\n",
       "      <td>40.99</td>\n",
       "      <td>...</td>\n",
       "      <td>Sterilite</td>\n",
       "      <td>2024-02-08</td>\n",
       "      <td>2049-12-31</td>\n",
       "      <td>2019-08-09</td>\n",
       "      <td>14</td>\n",
       "      <td>4.9</td>\n",
       "      <td>40.99</td>\n",
       "      <td>0.0</td>\n",
       "      <td>16.396</td>\n",
       "      <td>1</td>\n",
       "    </tr>\n",
       "  </tbody>\n",
       "</table>\n",
       "<p>2 rows × 29 columns</p>\n",
       "</div>"
      ],
      "text/plain": [
       "     Unnamed: 0                       SKU  \\\n",
       "157         157  188781000966-WM-BS-34.58   \n",
       "531         531  073149108395-W-F-L1-6.74   \n",
       "\n",
       "                                          Product_Name  \\\n",
       "157  Zerowater 5-Stage Water Filter Replacement - 6...   \n",
       "531  Sterilite 10839006 3 Gallon Round Swing Top Pl...   \n",
       "\n",
       "                 Product_Category  Price Promo_Start_Date Promo_End_Date  \\\n",
       "157  Home Decor, Kitchen, & Other  71.25       1970-01-01     1970-01-01   \n",
       "531  Home Decor, Kitchen, & Other  40.99       1970-01-01     1970-01-01   \n",
       "\n",
       "     Comparison_Price Comparison_Price_Type  Buy_Box_Item_Price  ...  \\\n",
       "157             91.99            List Price               70.31  ...   \n",
       "531             43.29             Was Price               40.99  ...   \n",
       "\n",
       "         Brand  Offer_Start_Date  Offer_End_Date Item_Creation_Date  \\\n",
       "157  ZeroWater        2024-02-23      2049-12-31         2019-07-10   \n",
       "531  Sterilite        2024-02-08      2049-12-31         2019-08-09   \n",
       "\n",
       "     Reviews_Count Average_Rating Competitor_Price Competitor_Ship_Price  \\\n",
       "157           2325            4.5            70.31                   0.0   \n",
       "531             14            4.9            40.99                   0.0   \n",
       "\n",
       "       Cost Buy_Box_Rate  \n",
       "157  28.500            0  \n",
       "531  16.396            1  \n",
       "\n",
       "[2 rows x 29 columns]"
      ]
     },
     "execution_count": 3,
     "metadata": {},
     "output_type": "execute_result"
    }
   ],
   "source": [
    "df[\"Buy_Box_Rate\"] = 0\n",
    "df.loc[df['Buy_Box_Item_Price'] == df['Price'], 'Buy_Box_Rate'] = 1\n",
    "df.loc[df['Buy_Box_Item_Price'] > df['Price'], 'Buy_Box_Rate'] = 1\n",
    "\n",
    "df.sample(2)"
   ]
  },
  {
   "cell_type": "markdown",
   "id": "f70fd5db",
   "metadata": {},
   "source": [
    "Buy Box Rate icin yeni bir sütun olusturuldu. Buy box fiyati ile Price degeri ayni olan ve kücük olan ürünler icin Buy box fiyati alindigi varsayilarak bu ürünler \"1\" olarak adlandirildi. Price degeri, Buy box fiyatindan büyük olan ürünler \"0\" olarak adlandirildi.\n",
    "\n",
    "Model elde edilen sonuc 1 ise, Buy box alma ihtimalinin olumlu oldugu, 0 ise, Bu box alma ihtimalinin olumsuz oldugunu anlayabiliriz."
   ]
  },
  {
   "cell_type": "code",
   "execution_count": 4,
   "id": "598c8e8c",
   "metadata": {
    "ExecuteTime": {
     "end_time": "2024-05-28T18:38:56.366563Z",
     "start_time": "2024-05-28T18:38:56.355524Z"
    }
   },
   "outputs": [
    {
     "data": {
      "text/plain": [
       "1    630\n",
       "0    414\n",
       "Name: Buy_Box_Rate, dtype: int64"
      ]
     },
     "execution_count": 4,
     "metadata": {},
     "output_type": "execute_result"
    }
   ],
   "source": [
    "df[\"Buy_Box_Rate\"].value_counts()"
   ]
  },
  {
   "cell_type": "markdown",
   "id": "a5dca99e",
   "metadata": {},
   "source": [
    "katsayisi 0,5 ve üzerindeki sütunlari final modelde kullanmak icin tutup digerlerini düsürecegiz. onemli sütunlari belirleyip digerlerini düsürüp, modele en az veri girip en iyi sonucu almaya calisacagiz"
   ]
  },
  {
   "cell_type": "code",
   "execution_count": 5,
   "id": "9cf7046f",
   "metadata": {
    "ExecuteTime": {
     "end_time": "2024-05-28T18:38:56.382319Z",
     "start_time": "2024-05-28T18:38:56.371037Z"
    }
   },
   "outputs": [],
   "source": [
    "df.drop(columns=['Unnamed: 0','SKU','Promo_Start_Date','Promo_End_Date','Primary_Category_Path','Item_Creation_Date', \n",
    "                 'Offer_Start_Date','Offer_End_Date','Product_Name','Product_Category','Comparison_Price',\n",
    "                 'Buy_Box_Eligible', 'MSRP','Product_Tax_Code','WFS_Sales_Restriction','Shelf_Name', 'Brand',\n",
    "                 'Reviews_Count', 'Competitor_Price', 'Competitor_Ship_Price'], inplace=True)"
   ]
  },
  {
   "cell_type": "markdown",
   "id": "00889801",
   "metadata": {},
   "source": [
    "# split"
   ]
  },
  {
   "cell_type": "code",
   "execution_count": 6,
   "id": "6c3fc1b2",
   "metadata": {
    "ExecuteTime": {
     "end_time": "2024-05-28T18:38:56.397582Z",
     "start_time": "2024-05-28T18:38:56.384598Z"
    }
   },
   "outputs": [
    {
     "name": "stdout",
     "output_type": "stream",
     "text": [
      "(939, 8) (105, 8)\n"
     ]
    }
   ],
   "source": [
    "from sklearn.model_selection import train_test_split\n",
    "\n",
    "X = df.drop(['Buy_Box_Rate'], axis=1)\n",
    "y = df['Buy_Box_Rate']\n",
    "\n",
    "scaler = StandardScaler()\n",
    "\n",
    "y = pd.DataFrame(y)\n",
    "y = y.values.reshape(-1, 1)\n",
    "\n",
    "X_train, X_test, y_train, y_test = train_test_split(X, y, test_size=0.1, random_state=42)\n",
    "print(X_train.shape, X_test.shape)"
   ]
  },
  {
   "cell_type": "code",
   "execution_count": 7,
   "id": "e7c2a799",
   "metadata": {
    "ExecuteTime": {
     "end_time": "2024-05-28T18:38:56.427917Z",
     "start_time": "2024-05-28T18:38:56.401016Z"
    }
   },
   "outputs": [
    {
     "data": {
      "text/html": [
       "<div>\n",
       "<style scoped>\n",
       "    .dataframe tbody tr th:only-of-type {\n",
       "        vertical-align: middle;\n",
       "    }\n",
       "\n",
       "    .dataframe tbody tr th {\n",
       "        vertical-align: top;\n",
       "    }\n",
       "\n",
       "    .dataframe thead th {\n",
       "        text-align: right;\n",
       "    }\n",
       "</style>\n",
       "<table border=\"1\" class=\"dataframe\">\n",
       "  <thead>\n",
       "    <tr style=\"text-align: right;\">\n",
       "      <th></th>\n",
       "      <th>Price</th>\n",
       "      <th>Comparison_Price_Type</th>\n",
       "      <th>Buy_Box_Item_Price</th>\n",
       "      <th>Ship_Methods</th>\n",
       "      <th>Shipping_Weight</th>\n",
       "      <th>Fulfillment_Type</th>\n",
       "      <th>Average_Rating</th>\n",
       "      <th>Cost</th>\n",
       "    </tr>\n",
       "  </thead>\n",
       "  <tbody>\n",
       "    <tr>\n",
       "      <th>182</th>\n",
       "      <td>18.99</td>\n",
       "      <td>Was Price</td>\n",
       "      <td>18.99</td>\n",
       "      <td>ALWAYS_TWO_DAY</td>\n",
       "      <td>2.05</td>\n",
       "      <td>Walmart Fulfilled</td>\n",
       "      <td>0.0</td>\n",
       "      <td>7.596</td>\n",
       "    </tr>\n",
       "    <tr>\n",
       "      <th>622</th>\n",
       "      <td>39.99</td>\n",
       "      <td>Was Price</td>\n",
       "      <td>39.99</td>\n",
       "      <td>ALWAYS_TWO_DAY</td>\n",
       "      <td>3.35</td>\n",
       "      <td>WFS Eligible</td>\n",
       "      <td>4.3</td>\n",
       "      <td>15.996</td>\n",
       "    </tr>\n",
       "  </tbody>\n",
       "</table>\n",
       "</div>"
      ],
      "text/plain": [
       "     Price Comparison_Price_Type  Buy_Box_Item_Price    Ship_Methods  \\\n",
       "182  18.99             Was Price               18.99  ALWAYS_TWO_DAY   \n",
       "622  39.99             Was Price               39.99  ALWAYS_TWO_DAY   \n",
       "\n",
       "     Shipping_Weight   Fulfillment_Type  Average_Rating    Cost  \n",
       "182             2.05  Walmart Fulfilled             0.0   7.596  \n",
       "622             3.35       WFS Eligible             4.3  15.996  "
      ]
     },
     "execution_count": 7,
     "metadata": {},
     "output_type": "execute_result"
    }
   ],
   "source": [
    "X.sample(2)"
   ]
  },
  {
   "cell_type": "markdown",
   "id": "f9ccd910",
   "metadata": {},
   "source": [
    "En yüksek skorlari aldigimiz Logistic Regression modelini parametreleri ile final model olarak kullanacagiz."
   ]
  },
  {
   "cell_type": "code",
   "execution_count": 8,
   "id": "7549c094",
   "metadata": {
    "ExecuteTime": {
     "end_time": "2024-05-28T18:38:56.536698Z",
     "start_time": "2024-05-28T18:38:56.433637Z"
    }
   },
   "outputs": [
    {
     "data": {
      "text/html": [
       "<style>#sk-container-id-1 {color: black;background-color: white;}#sk-container-id-1 pre{padding: 0;}#sk-container-id-1 div.sk-toggleable {background-color: white;}#sk-container-id-1 label.sk-toggleable__label {cursor: pointer;display: block;width: 100%;margin-bottom: 0;padding: 0.3em;box-sizing: border-box;text-align: center;}#sk-container-id-1 label.sk-toggleable__label-arrow:before {content: \"▸\";float: left;margin-right: 0.25em;color: #696969;}#sk-container-id-1 label.sk-toggleable__label-arrow:hover:before {color: black;}#sk-container-id-1 div.sk-estimator:hover label.sk-toggleable__label-arrow:before {color: black;}#sk-container-id-1 div.sk-toggleable__content {max-height: 0;max-width: 0;overflow: hidden;text-align: left;background-color: #f0f8ff;}#sk-container-id-1 div.sk-toggleable__content pre {margin: 0.2em;color: black;border-radius: 0.25em;background-color: #f0f8ff;}#sk-container-id-1 input.sk-toggleable__control:checked~div.sk-toggleable__content {max-height: 200px;max-width: 100%;overflow: auto;}#sk-container-id-1 input.sk-toggleable__control:checked~label.sk-toggleable__label-arrow:before {content: \"▾\";}#sk-container-id-1 div.sk-estimator input.sk-toggleable__control:checked~label.sk-toggleable__label {background-color: #d4ebff;}#sk-container-id-1 div.sk-label input.sk-toggleable__control:checked~label.sk-toggleable__label {background-color: #d4ebff;}#sk-container-id-1 input.sk-hidden--visually {border: 0;clip: rect(1px 1px 1px 1px);clip: rect(1px, 1px, 1px, 1px);height: 1px;margin: -1px;overflow: hidden;padding: 0;position: absolute;width: 1px;}#sk-container-id-1 div.sk-estimator {font-family: monospace;background-color: #f0f8ff;border: 1px dotted black;border-radius: 0.25em;box-sizing: border-box;margin-bottom: 0.5em;}#sk-container-id-1 div.sk-estimator:hover {background-color: #d4ebff;}#sk-container-id-1 div.sk-parallel-item::after {content: \"\";width: 100%;border-bottom: 1px solid gray;flex-grow: 1;}#sk-container-id-1 div.sk-label:hover label.sk-toggleable__label {background-color: #d4ebff;}#sk-container-id-1 div.sk-serial::before {content: \"\";position: absolute;border-left: 1px solid gray;box-sizing: border-box;top: 0;bottom: 0;left: 50%;z-index: 0;}#sk-container-id-1 div.sk-serial {display: flex;flex-direction: column;align-items: center;background-color: white;padding-right: 0.2em;padding-left: 0.2em;position: relative;}#sk-container-id-1 div.sk-item {position: relative;z-index: 1;}#sk-container-id-1 div.sk-parallel {display: flex;align-items: stretch;justify-content: center;background-color: white;position: relative;}#sk-container-id-1 div.sk-item::before, #sk-container-id-1 div.sk-parallel-item::before {content: \"\";position: absolute;border-left: 1px solid gray;box-sizing: border-box;top: 0;bottom: 0;left: 50%;z-index: -1;}#sk-container-id-1 div.sk-parallel-item {display: flex;flex-direction: column;z-index: 1;position: relative;background-color: white;}#sk-container-id-1 div.sk-parallel-item:first-child::after {align-self: flex-end;width: 50%;}#sk-container-id-1 div.sk-parallel-item:last-child::after {align-self: flex-start;width: 50%;}#sk-container-id-1 div.sk-parallel-item:only-child::after {width: 0;}#sk-container-id-1 div.sk-dashed-wrapped {border: 1px dashed gray;margin: 0 0.4em 0.5em 0.4em;box-sizing: border-box;padding-bottom: 0.4em;background-color: white;}#sk-container-id-1 div.sk-label label {font-family: monospace;font-weight: bold;display: inline-block;line-height: 1.2em;}#sk-container-id-1 div.sk-label-container {text-align: center;}#sk-container-id-1 div.sk-container {/* jupyter's `normalize.less` sets `[hidden] { display: none; }` but bootstrap.min.css set `[hidden] { display: none !important; }` so we also need the `!important` here to be able to override the default hidden behavior on the sphinx rendered scikit-learn.org. See: https://github.com/scikit-learn/scikit-learn/issues/21755 */display: inline-block !important;position: relative;}#sk-container-id-1 div.sk-text-repr-fallback {display: none;}</style><div id=\"sk-container-id-1\" class=\"sk-top-container\"><div class=\"sk-text-repr-fallback\"><pre>Pipeline(steps=[(&#x27;preprocessor&#x27;,\n",
       "                 ColumnTransformer(transformers=[(&#x27;ord&#x27;,\n",
       "                                                  OrdinalEncoder(handle_unknown=&#x27;use_encoded_value&#x27;,\n",
       "                                                                 unknown_value=-1),\n",
       "                                                  [&#x27;Comparison_Price_Type&#x27;,\n",
       "                                                   &#x27;Ship_Methods&#x27;,\n",
       "                                                   &#x27;Fulfillment_Type&#x27;]),\n",
       "                                                 (&#x27;num&#x27;, StandardScaler(),\n",
       "                                                  [&#x27;Price&#x27;,\n",
       "                                                   &#x27;Buy_Box_Item_Price&#x27;,\n",
       "                                                   &#x27;Shipping_Weight&#x27;,\n",
       "                                                   &#x27;Average_Rating&#x27;,\n",
       "                                                   &#x27;Cost&#x27;])])),\n",
       "                (&#x27;classifier&#x27;,\n",
       "                 LogisticRegression(class_weight=&#x27;balanced&#x27;, max_iter=10000,\n",
       "                                    penalty=&#x27;l1&#x27;, random_state=101,\n",
       "                                    solver=&#x27;liblinear&#x27;))])</pre><b>In a Jupyter environment, please rerun this cell to show the HTML representation or trust the notebook. <br />On GitHub, the HTML representation is unable to render, please try loading this page with nbviewer.org.</b></div><div class=\"sk-container\" hidden><div class=\"sk-item sk-dashed-wrapped\"><div class=\"sk-label-container\"><div class=\"sk-label sk-toggleable\"><input class=\"sk-toggleable__control sk-hidden--visually\" id=\"sk-estimator-id-1\" type=\"checkbox\" ><label for=\"sk-estimator-id-1\" class=\"sk-toggleable__label sk-toggleable__label-arrow\">Pipeline</label><div class=\"sk-toggleable__content\"><pre>Pipeline(steps=[(&#x27;preprocessor&#x27;,\n",
       "                 ColumnTransformer(transformers=[(&#x27;ord&#x27;,\n",
       "                                                  OrdinalEncoder(handle_unknown=&#x27;use_encoded_value&#x27;,\n",
       "                                                                 unknown_value=-1),\n",
       "                                                  [&#x27;Comparison_Price_Type&#x27;,\n",
       "                                                   &#x27;Ship_Methods&#x27;,\n",
       "                                                   &#x27;Fulfillment_Type&#x27;]),\n",
       "                                                 (&#x27;num&#x27;, StandardScaler(),\n",
       "                                                  [&#x27;Price&#x27;,\n",
       "                                                   &#x27;Buy_Box_Item_Price&#x27;,\n",
       "                                                   &#x27;Shipping_Weight&#x27;,\n",
       "                                                   &#x27;Average_Rating&#x27;,\n",
       "                                                   &#x27;Cost&#x27;])])),\n",
       "                (&#x27;classifier&#x27;,\n",
       "                 LogisticRegression(class_weight=&#x27;balanced&#x27;, max_iter=10000,\n",
       "                                    penalty=&#x27;l1&#x27;, random_state=101,\n",
       "                                    solver=&#x27;liblinear&#x27;))])</pre></div></div></div><div class=\"sk-serial\"><div class=\"sk-item sk-dashed-wrapped\"><div class=\"sk-label-container\"><div class=\"sk-label sk-toggleable\"><input class=\"sk-toggleable__control sk-hidden--visually\" id=\"sk-estimator-id-2\" type=\"checkbox\" ><label for=\"sk-estimator-id-2\" class=\"sk-toggleable__label sk-toggleable__label-arrow\">preprocessor: ColumnTransformer</label><div class=\"sk-toggleable__content\"><pre>ColumnTransformer(transformers=[(&#x27;ord&#x27;,\n",
       "                                 OrdinalEncoder(handle_unknown=&#x27;use_encoded_value&#x27;,\n",
       "                                                unknown_value=-1),\n",
       "                                 [&#x27;Comparison_Price_Type&#x27;, &#x27;Ship_Methods&#x27;,\n",
       "                                  &#x27;Fulfillment_Type&#x27;]),\n",
       "                                (&#x27;num&#x27;, StandardScaler(),\n",
       "                                 [&#x27;Price&#x27;, &#x27;Buy_Box_Item_Price&#x27;,\n",
       "                                  &#x27;Shipping_Weight&#x27;, &#x27;Average_Rating&#x27;,\n",
       "                                  &#x27;Cost&#x27;])])</pre></div></div></div><div class=\"sk-parallel\"><div class=\"sk-parallel-item\"><div class=\"sk-item\"><div class=\"sk-label-container\"><div class=\"sk-label sk-toggleable\"><input class=\"sk-toggleable__control sk-hidden--visually\" id=\"sk-estimator-id-3\" type=\"checkbox\" ><label for=\"sk-estimator-id-3\" class=\"sk-toggleable__label sk-toggleable__label-arrow\">ord</label><div class=\"sk-toggleable__content\"><pre>[&#x27;Comparison_Price_Type&#x27;, &#x27;Ship_Methods&#x27;, &#x27;Fulfillment_Type&#x27;]</pre></div></div></div><div class=\"sk-serial\"><div class=\"sk-item\"><div class=\"sk-estimator sk-toggleable\"><input class=\"sk-toggleable__control sk-hidden--visually\" id=\"sk-estimator-id-4\" type=\"checkbox\" ><label for=\"sk-estimator-id-4\" class=\"sk-toggleable__label sk-toggleable__label-arrow\">OrdinalEncoder</label><div class=\"sk-toggleable__content\"><pre>OrdinalEncoder(handle_unknown=&#x27;use_encoded_value&#x27;, unknown_value=-1)</pre></div></div></div></div></div></div><div class=\"sk-parallel-item\"><div class=\"sk-item\"><div class=\"sk-label-container\"><div class=\"sk-label sk-toggleable\"><input class=\"sk-toggleable__control sk-hidden--visually\" id=\"sk-estimator-id-5\" type=\"checkbox\" ><label for=\"sk-estimator-id-5\" class=\"sk-toggleable__label sk-toggleable__label-arrow\">num</label><div class=\"sk-toggleable__content\"><pre>[&#x27;Price&#x27;, &#x27;Buy_Box_Item_Price&#x27;, &#x27;Shipping_Weight&#x27;, &#x27;Average_Rating&#x27;, &#x27;Cost&#x27;]</pre></div></div></div><div class=\"sk-serial\"><div class=\"sk-item\"><div class=\"sk-estimator sk-toggleable\"><input class=\"sk-toggleable__control sk-hidden--visually\" id=\"sk-estimator-id-6\" type=\"checkbox\" ><label for=\"sk-estimator-id-6\" class=\"sk-toggleable__label sk-toggleable__label-arrow\">StandardScaler</label><div class=\"sk-toggleable__content\"><pre>StandardScaler()</pre></div></div></div></div></div></div></div></div><div class=\"sk-item\"><div class=\"sk-estimator sk-toggleable\"><input class=\"sk-toggleable__control sk-hidden--visually\" id=\"sk-estimator-id-7\" type=\"checkbox\" ><label for=\"sk-estimator-id-7\" class=\"sk-toggleable__label sk-toggleable__label-arrow\">LogisticRegression</label><div class=\"sk-toggleable__content\"><pre>LogisticRegression(class_weight=&#x27;balanced&#x27;, max_iter=10000, penalty=&#x27;l1&#x27;,\n",
       "                   random_state=101, solver=&#x27;liblinear&#x27;)</pre></div></div></div></div></div></div></div>"
      ],
      "text/plain": [
       "Pipeline(steps=[('preprocessor',\n",
       "                 ColumnTransformer(transformers=[('ord',\n",
       "                                                  OrdinalEncoder(handle_unknown='use_encoded_value',\n",
       "                                                                 unknown_value=-1),\n",
       "                                                  ['Comparison_Price_Type',\n",
       "                                                   'Ship_Methods',\n",
       "                                                   'Fulfillment_Type']),\n",
       "                                                 ('num', StandardScaler(),\n",
       "                                                  ['Price',\n",
       "                                                   'Buy_Box_Item_Price',\n",
       "                                                   'Shipping_Weight',\n",
       "                                                   'Average_Rating',\n",
       "                                                   'Cost'])])),\n",
       "                ('classifier',\n",
       "                 LogisticRegression(class_weight='balanced', max_iter=10000,\n",
       "                                    penalty='l1', random_state=101,\n",
       "                                    solver='liblinear'))])"
      ]
     },
     "execution_count": 8,
     "metadata": {},
     "output_type": "execute_result"
    }
   ],
   "source": [
    "# OrdinalEncoder ve StandardScaler transformer'ları\n",
    "ordinal_features = ['Comparison_Price_Type','Ship_Methods', 'Fulfillment_Type']\n",
    "                     \n",
    "numeric_features = ['Price','Buy_Box_Item_Price','Shipping_Weight','Average_Rating','Cost']\n",
    "\n",
    "ordinal_transformer = OrdinalEncoder(handle_unknown='use_encoded_value', unknown_value=-1)\n",
    "numeric_transformer = StandardScaler()\n",
    "\n",
    "# ColumnTransformer ile iki farklı transformer'ı birleştirme\n",
    "preprocessor = ColumnTransformer(\n",
    "    transformers=[\n",
    "        ('ord', ordinal_transformer, ordinal_features),\n",
    "        ('num', numeric_transformer, numeric_features)])\n",
    "\n",
    "# Logistic Regression model ile pipeline oluşturma\n",
    "final_model = Pipeline(steps=[\n",
    "    ('preprocessor', preprocessor),\n",
    "    ('classifier', LogisticRegression(class_weight='balanced', max_iter=10000, random_state=101,\n",
    "                              solver=\"liblinear\", penalty=\"l1\"))])\n",
    "\n",
    "# Modeli eğitim verisiyle eğitme\n",
    "final_model.fit(X_train, y_train)\n"
   ]
  },
  {
   "cell_type": "code",
   "execution_count": 9,
   "id": "2ecfc69a",
   "metadata": {
    "ExecuteTime": {
     "end_time": "2024-05-28T18:38:56.552752Z",
     "start_time": "2024-05-28T18:38:56.539782Z"
    }
   },
   "outputs": [],
   "source": [
    "def eval_metric(final_model, X_train, y_train, X_test, y_test):\n",
    "    y_train_pred = model.predict(X_train)\n",
    "    y_pred = model.predict(X_test)\n",
    "    \n",
    "    print(\"Test_Set\")\n",
    "    print(confusion_matrix(y_test, y_pred))\n",
    "    print(classification_report(y_test, y_pred))\n",
    "    print()\n",
    "    print(\"Train_Set\")\n",
    "    print(confusion_matrix(y_train, y_train_pred))\n",
    "    print(classification_report(y_train, y_train_pred))"
   ]
  },
  {
   "cell_type": "code",
   "execution_count": 10,
   "id": "8df1b8b5",
   "metadata": {
    "ExecuteTime": {
     "end_time": "2024-05-28T18:38:56.599409Z",
     "start_time": "2024-05-28T18:38:56.558267Z"
    }
   },
   "outputs": [
    {
     "name": "stdout",
     "output_type": "stream",
     "text": [
      "Doğruluk (Accuracy): 0.9142857142857143\n",
      "Kesinlik (Precision): 0.8787878787878788\n",
      "Duyarlilik (Recall): 0.9830508474576272\n",
      "F1 Skoru: 0.9279999999999999\n",
      "\n",
      "Siniflandirma Raporu:\n",
      "Test_Set\n",
      "[[38  8]\n",
      " [ 1 58]]\n",
      "              precision    recall  f1-score   support\n",
      "\n",
      "           0       0.97      0.83      0.89        46\n",
      "           1       0.88      0.98      0.93        59\n",
      "\n",
      "    accuracy                           0.91       105\n",
      "   macro avg       0.93      0.90      0.91       105\n",
      "weighted avg       0.92      0.91      0.91       105\n",
      "\n",
      "\n",
      "Train_Set\n",
      "[[324  44]\n",
      " [  5 566]]\n",
      "              precision    recall  f1-score   support\n",
      "\n",
      "           0       0.98      0.88      0.93       368\n",
      "           1       0.93      0.99      0.96       571\n",
      "\n",
      "    accuracy                           0.95       939\n",
      "   macro avg       0.96      0.94      0.94       939\n",
      "weighted avg       0.95      0.95      0.95       939\n",
      "\n"
     ]
    }
   ],
   "source": [
    "# Tahminler yapma\n",
    "y_pred = final_model.predict(X_test)\n",
    "y_train_pred = final_model.predict(X_train)\n",
    "\n",
    "# Performans metriklerini hesaplama\n",
    "accuracy = accuracy_score(y_test, y_pred)\n",
    "precision = precision_score(y_test, y_pred)\n",
    "recall = recall_score(y_test, y_pred)\n",
    "f1 = f1_score(y_test, y_pred)\n",
    "\n",
    "# Sonuçlari yazdirma\n",
    "print(f\"Doğruluk (Accuracy): {accuracy}\")\n",
    "print(f\"Kesinlik (Precision): {precision}\")\n",
    "print(f\"Duyarlilik (Recall): {recall}\")\n",
    "print(f\"F1 Skoru: {f1}\")\n",
    "\n",
    "# Daha ayrintili bir siniflandirma raporu\n",
    "print(\"\\nSiniflandirma Raporu:\")\n",
    "print(\"Test_Set\")\n",
    "print(confusion_matrix(y_test, y_pred))\n",
    "print(classification_report(y_test, y_pred))\n",
    "print()\n",
    "print(\"Train_Set\")\n",
    "print(confusion_matrix(y_train, y_train_pred))\n",
    "print(classification_report(y_train, y_train_pred))"
   ]
  },
  {
   "cell_type": "markdown",
   "id": "a3330413",
   "metadata": {},
   "source": [
    "# Model Deployment"
   ]
  },
  {
   "cell_type": "markdown",
   "id": "8b954e69",
   "metadata": {},
   "source": [
    "Modeli joblib kullanarak deploy edecegiz ve yeni veriler ile modeli test edecgiz. ilk uc veri datasetinden son veri ile tamamen hayali degerlerdir."
   ]
  },
  {
   "cell_type": "code",
   "execution_count": 11,
   "id": "0f332c51",
   "metadata": {
    "ExecuteTime": {
     "end_time": "2024-05-28T18:38:56.615353Z",
     "start_time": "2024-05-28T18:38:56.602641Z"
    }
   },
   "outputs": [
    {
     "name": "stdout",
     "output_type": "stream",
     "text": [
      "Kategoriler ve kodlari - Comparison_Price_Type:\n",
      "  List Price: 0\n",
      "  Was Price: 1\n",
      "Kategoriler ve kodlari - Ship_Methods:\n",
      "  ALWAYS_TWO_DAY: 0\n",
      "  NETWORK_GEO: 1\n",
      "Kategoriler ve kodlari - Fulfillment_Type:\n",
      "  Seller Fulfilled: 0\n",
      "  WFS Eligible: 1\n",
      "  Walmart Fulfilled: 2\n"
     ]
    }
   ],
   "source": [
    "# Pipeline'i kaydetme\n",
    "joblib.dump(final_model, 'BuyBoxOran_model.pkl')\n",
    "\n",
    "# Eğitilmiş OrdinalEncoder'i pipeline'dan çikarma\n",
    "trained_ordinal_encoder = final_model.named_steps['preprocessor'].named_transformers_['ord']\n",
    "\n",
    "# Eğitim sirasinda kullanilan kategorileri görüntüleme\n",
    "for feature, categories in zip(ordinal_features, trained_ordinal_encoder.categories_):\n",
    "    print(f\"Kategoriler ve kodlari - {feature}:\")\n",
    "    for category, code in zip(categories, range(len(categories))):\n",
    "        print(f\"  {category}: {code}\")\n"
   ]
  },
  {
   "cell_type": "markdown",
   "id": "007d32ba",
   "metadata": {},
   "source": [
    "modele girilecek su verilerle ürün icin buy box fiyatinin uygun olup olmadiginin ciktisi alinacaktir. \n",
    "\n",
    "Price, Comparison_Price_Type, Buy_Box_Item_Price, Ship_Methods, Shipping_Weight, Fulfillment_Type, Average_Rating, Cost"
   ]
  },
  {
   "cell_type": "code",
   "execution_count": 12,
   "id": "3429aaf2",
   "metadata": {
    "ExecuteTime": {
     "end_time": "2024-05-28T18:38:56.678679Z",
     "start_time": "2024-05-28T18:38:56.620155Z"
    }
   },
   "outputs": [
    {
     "name": "stdout",
     "output_type": "stream",
     "text": [
      "[0 0 1 0] \n",
      "\n",
      "[[6.25830873e-01 3.74169127e-01]\n",
      " [1.00000000e+00 7.96957700e-15]\n",
      " [3.75628926e-01 6.24371074e-01]\n",
      " [9.99987458e-01 1.25424091e-05]]\n"
     ]
    }
   ],
   "source": [
    "# Kaydedilmiş pipeline'ı yükleme\n",
    "loaded_model = joblib.load('BuyBoxOran_model.pkl')\n",
    "# Yeni veri\n",
    "new_data = pd.DataFrame({\"Price\": [13.00, 149.00, 50.00, 30.00],\n",
    "                         \"Comparison_Price_Type\": [\"Was Price\", \"Was Price\", \"Was Price\", \"Was Price\"],\n",
    "                         \"Buy_Box_Item_Price\": [13.26, 110, 49.45, 32],\n",
    "                         \"Ship_Methods\": [\"ALWAYS_TWO_DAYS\",\"ALWAYS_TWO_DAYS\", \"ALWAYS_TWO_DAYS\", \"NETWORK_GEO\"],\n",
    "                         \"Shipping_Weight\": [0.10, 7.00, 2.25, 5.00],\n",
    "                         \"Fulfillment_Type\": [\"WFS Eligible\", \"Walmart Fulfilled\", \"WFS Eligible\", \"Seller Fulfilled\"],\n",
    "                         \"Average_Rating\": [4.3, 4.8, 0.0, 4.0],\n",
    "                         \"Cost\": [5.160, 59.432, 19.780, 25.100]})\n",
    "\n",
    "# Yeni veri ile tahmin alma\n",
    "predictions = loaded_model.predict(new_data)\n",
    "predictions_proba = loaded_model.predict_proba(new_data)\n",
    "print(predictions, \"\\n\")\n",
    "print(predictions_proba)"
   ]
  },
  {
   "attachments": {
    "image.png": {
     "image/png": "[encoded data removed]"
    }
   },
   "cell_type": "markdown",
   "id": "827e0942",
   "metadata": {},
   "source": [
    "![image.png](attachment:image.png)"
   ]
  },
  {
   "cell_type": "markdown",
   "id": "68b3323f",
   "metadata": {},
   "source": [
    "Modelimiz verilen 4 veri icin ilk veri icin 1. , 2. ve 4. veriler icin sifir yani fiyatin olumsuz oldugunu, 3. veriler icin 1 i fiyatin olumlu yani buybox oranini alabilecegi sonucunu verdi. "
   ]
  }
 ],
 "metadata": {
  "hide_input": false,
  "kernelspec": {
   "display_name": "Python (3.10.8)",
   "language": "python",
   "name": "3.10.8"
  },
  "language_info": {
   "codemirror_mode": {
    "name": "ipython",
    "version": 3
   },
   "file_extension": ".py",
   "mimetype": "text/x-python",
   "name": "python",
   "nbconvert_exporter": "python",
   "pygments_lexer": "ipython3",
   "version": "3.10.8"
  },
  "nbTranslate": {
   "displayLangs": [
    "*"
   ],
   "hotkey": "alt-t",
   "langInMainMenu": true,
   "sourceLang": "en",
   "targetLang": "fr",
   "useGoogleTranslate": true
  },
  "toc": {
   "base_numbering": 1,
   "nav_menu": {},
   "number_sections": true,
   "sideBar": true,
   "skip_h1_title": false,
   "title_cell": "Table of Contents",
   "title_sidebar": "Contents",
   "toc_cell": false,
   "toc_position": {},
   "toc_section_display": true,
   "toc_window_display": false
  }
 },
 "nbformat": 4,
 "nbformat_minor": 5
}
